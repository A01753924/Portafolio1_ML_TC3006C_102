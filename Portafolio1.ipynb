{
 "cells": [
  {
   "cell_type": "markdown",
   "metadata": {},
   "source": [
    "## ALAN ALBERTO MOTA YESCAS - A01753924"
   ]
  },
  {
   "cell_type": "markdown",
   "metadata": {},
   "source": [
    "# Pima Indians Diabetes Database "
   ]
  },
  {
   "cell_type": "markdown",
   "metadata": {},
   "source": [
    "El dataset \"Pima Indians Diabetes Database\" proviene originalmente del Instituto Nacional de Diabetes y Enfermedades Digestivas y Renales, y su propósito es predecir de manera diagnóstica si un paciente tiene diabetes, basándose en ciertas mediciones diagnósticas. Este conjunto de datos es particularmente relevante porque todos los pacientes son mujeres mayores de 21 años de herencia Pima, un grupo étnico con una alta prevalencia de diabetes tipo 2. El dataset incluye varias variables predictoras médicas, como el número de embarazos, el índice de masa corporal (BMI), el nivel de insulina, la edad, entre otras, y una variable objetivo que indica si el paciente tiene diabetes o no (Outcome). En este proyecto, se te pide implementar manualmente un algoritmo de aprendizaje automático, sin utilizar bibliotecas o frameworks existentes, con el objetivo de predecir la presencia de diabetes en pacientes utilizando este conjunto de datos. La implementación final debe ser capaz de correr independientemente en un archivo de código, sin depender de un entorno de desarrollo interactivo (IDE) o un notebook."
   ]
  },
  {
   "cell_type": "markdown",
   "metadata": {},
   "source": [
    "Como se mencionó anteriormente, se utilizan ciertas librerías para la implementación de este modelo, de los cuales son: pandas y numpy. Las librerías importadas juegan un papel crucial en diversas etapas del desarrollo del modelo de Machine Learning. Pandas es fundamental para la manipulación y análisis de los datos, permitiendo cargar, limpiar, y explorar el dataset de manera eficiente. Numpy es esencial para realizar operaciones matemáticas y manejar arreglos numéricos, lo que facilita las manipulaciones algebraicas necesarias durante la implementación del algoritmo. Plotly Graph Objects se utiliza para la visualización de datos, en particular para generar gráficos interactivos que permiten explorar y presentar los resultados de manera clara y atractiva. Finalmente, aunque en este proyecto específico no se utilizarán bibliotecas de Machine Learning para la implementación del algoritmo, Sklearn se incluye para la evaluación de modelos mediante la métrica de la curva ROC y el cálculo del AUC, realización de matriz de confusión, herramientas importantes para medir el desempeño del modelo y comparar su efectividad."
   ]
  },
  {
   "cell_type": "code",
   "execution_count": 1,
   "metadata": {},
   "outputs": [],
   "source": [
    "import pandas as pd\n",
    "import numpy as np\n",
    "import plotly.graph_objects as go\n",
    "from sklearn.metrics import roc_curve, auc\n",
    "from sklearn.metrics import confusion_matrix\n",
    "import plotly.figure_factory as ff\n",
    "\n"
   ]
  },
  {
   "cell_type": "markdown",
   "metadata": {},
   "source": [
    "El código carga el dataset y luego separa las características predictoras (X) de la variable objetivo (y). Específicamente, **X**, mientras que **y** contiene los valores de la última columna, que corresponde a la variable objetivo \"Outcome\", indicando si el paciente tiene diabetes o no."
   ]
  },
  {
   "cell_type": "code",
   "execution_count": 2,
   "metadata": {},
   "outputs": [],
   "source": [
    "\n",
    "# Cargar el dataset\n",
    "ruta_archivo = \"diabetes.csv\"\n",
    "df = pd.read_csv(ruta_archivo)\n",
    "\n",
    "# Separar características (X) y la variable objetivo (y)\n",
    "X = df.iloc[:, :-1].values  \n",
    "y = df.iloc[:, -1].values  \n"
   ]
  },
  {
   "cell_type": "markdown",
   "metadata": {},
   "source": [
    "Normalizamos los datos para que las características tengan una escala similar, lo cual es crucial para el correcto funcionamiento del algoritmo de regresión logística."
   ]
  },
  {
   "cell_type": "code",
   "execution_count": 3,
   "metadata": {},
   "outputs": [],
   "source": [
    "def normalize(X):\n",
    "    mean = X.mean(axis=0)\n",
    "    std = X.std(axis=0)\n",
    "    return (X - mean) / std\n",
    "\n",
    "X = normalize(X)\n"
   ]
  },
  {
   "cell_type": "markdown",
   "metadata": {},
   "source": [
    "La función 'sigmoid' calcula la función sigmoide, que toma una entrada z y devuelve un valor entre 0 y 1, utilizando la fórmula $\\text{sigmoid}(z) = \\frac{1}{1 + e^{-z}}$.\n",
    "\n"
   ]
  },
  {
   "cell_type": "code",
   "execution_count": 4,
   "metadata": {},
   "outputs": [],
   "source": [
    "\n",
    "def sigmoid(z):\n",
    "    return 1 / (1 + np.exp(-z))\n"
   ]
  },
  {
   "cell_type": "markdown",
   "metadata": {},
   "source": [
    "Se definen dos funciones clave para el entrenamiento de un modelo de regresión logística:\n",
    "\n",
    "compute_cost: Calcula el costo (o función de pérdida) para el modelo de regresión logística dado un conjunto de características X, la variable objetivo y y los parámetros del modelo theta. Utiliza la función sigmoide para predecir los valores (h), y luego calcula el costo promedio utilizando la función de pérdida logarítmica.\n",
    "\n",
    "compute_gradient: Calcula el gradiente de la función de costo con respecto a los parámetros theta. Este gradiente es utilizado para actualizar los parámetros durante el entrenamiento mediante un algoritmo de optimización como el descenso de gradiente."
   ]
  },
  {
   "cell_type": "code",
   "execution_count": 5,
   "metadata": {},
   "outputs": [],
   "source": [
    "def compute_cost(X, y, theta):\n",
    "    m = len(y)\n",
    "    h = sigmoid(np.dot(X, theta))\n",
    "    cost = -(1/m) * np.sum(y * np.log(h) + (1 - y) * np.log(1 - h))\n",
    "    return cost\n",
    "\n",
    "def compute_gradient(X, y, theta):\n",
    "    m = len(y)\n",
    "    h = sigmoid(np.dot(X, theta))\n",
    "    gradient = (1/m) * np.dot(X.T, (h - y))\n",
    "    return gradient\n"
   ]
  },
  {
   "cell_type": "markdown",
   "metadata": {},
   "source": [
    "Este bloque de código implementa el proceso de entrenamiento de un modelo de regresión logística mediante el algoritmo de descenso de gradiente. La función 'gradient_descent' ajusta iterativamente los parámetros del modelo **theta** para minimizar la función de costo, actualizando **theta** en cada iteración según el gradiente de la función de costo, escalado por una tasa de aprendizaje. Además, se agrega un término de sesgo al conjunto de características **X** mediante la inclusión de un vector de unos, y se inicializan los pesos **theta** en ceros. Se definen la tasa de aprendizaje y el número de iteraciones que determinan cómo y cuántas veces se actualizarán los parámetros durante el entrenamiento. Finalmente, el modelo se entrena llamando a 'gradient_descent', produciendo un conjunto de parámetros ajustados y un historial de costos, que permite evaluar la convergencia del algoritmo y el desempeño del modelo."
   ]
  },
  {
   "cell_type": "code",
   "execution_count": 6,
   "metadata": {},
   "outputs": [],
   "source": [
    "def gradient_descent(X, y, theta, learning_rate, num_iterations):\n",
    "    cost_history = []\n",
    "    \n",
    "    for i in range(num_iterations):\n",
    "        theta -= learning_rate * compute_gradient(X, y, theta)\n",
    "        cost = compute_cost(X, y, theta)\n",
    "        cost_history.append(cost)\n",
    "    \n",
    "    return theta, cost_history\n",
    "\n",
    "# Agregar un vector de unos para el término de sesgo (bias)\n",
    "X_bias = np.c_[np.ones((X.shape[0], 1)), X]\n",
    "\n",
    "# Inicializar los pesos (theta)\n",
    "theta = np.zeros(X_bias.shape[1])\n",
    "\n",
    "# Definir parámetros\n",
    "learning_rate = 0.01\n",
    "num_iterations = 1000\n",
    "\n",
    "# Entrenar el modelo\n",
    "theta, cost_history = gradient_descent(X_bias, y, theta, learning_rate, num_iterations)\n"
   ]
  },
  {
   "cell_type": "markdown",
   "metadata": {},
   "source": [
    "Se implementa la función de predicción para el modelo de regresión logística:\n",
    "\n",
    "predict: Esta función toma como entrada las características X y los parámetros entrenados theta. Calcula la probabilidad de que cada ejemplo en X pertenezca a la clase positiva (es decir, que el valor de la variable objetivo sea 1) utilizando la función sigmoide aplicada al producto punto de X y theta. Luego, convierte estas probabilidades en predicciones binarias: si la probabilidad es mayor o igual a 0.5, se predice un 1 (indicando la presencia de diabetes), y si es menor, se predice un 0.\n",
    "\n",
    "y_pred: Se generan predicciones para el conjunto de entrenamiento utilizando la función predict con las características X_bias (que incluyen el término de sesgo) y los parámetros ajustados theta obtenidos durante el entrenamiento."
   ]
  },
  {
   "cell_type": "code",
   "execution_count": 7,
   "metadata": {},
   "outputs": [],
   "source": [
    "def predict(X, theta):\n",
    "    prob = sigmoid(np.dot(X, theta))\n",
    "    return [1 if p >= 0.5 else 0 for p in prob]\n",
    "\n",
    "# Predicciones en el conjunto de entrenamiento\n",
    "y_pred = predict(X_bias, theta)\n"
   ]
  },
  {
   "cell_type": "markdown",
   "metadata": {},
   "source": [
    "Se calcula la precisión del modelo de regresión logística, una métrica que indica qué porcentaje de las predicciones del modelo coinciden con las etiquetas reales. La función accuracy compara las predicciones generadas por el modelo (y_pred) con los valores reales (y_true), contando cuántas predicciones fueron correctas y dividiendo este número por el total de ejemplos. Finalmente, se calcula y se imprime la precisión del modelo como un porcentaje, proporcionando una medida clara de qué tan bien ha funcionado el modelo en el conjunto de datos de entrenamiento."
   ]
  },
  {
   "cell_type": "code",
   "execution_count": 8,
   "metadata": {},
   "outputs": [
    {
     "name": "stdout",
     "output_type": "stream",
     "text": [
      "Precisión del modelo: 76.95%\n"
     ]
    }
   ],
   "source": [
    "def accuracy(y_true, y_pred):\n",
    "    correct = np.sum(y_true == y_pred)\n",
    "    return correct / len(y_true)\n",
    "\n",
    "# Calcular la precisión\n",
    "acc = accuracy(y, y_pred)\n",
    "print(f\"Precisión del modelo: {acc * 100:.2f}%\")\n"
   ]
  },
  {
   "cell_type": "markdown",
   "metadata": {},
   "source": [
    "El modelo de regresión logística ajustado ha obtenido una precisión del 76.95% al verificar las predicciones hechas en el conjunto de datos de entrenamiento. Basado en el escenario mencionado anteriormente, tiene sentido que el valor de precisión sea fijo y no difiera con cada ejecución repetida del código, suponiendo que se estén utilizando los mismos datos de entrada y los parámetros e hiperparámetros (por ejemplo, la tasa de aprendizaje y las iteraciones) se inicialicen de la misma manera. Esto se debe a que el proceso de entrenamiento en la regresión logística es determinista en escenarios en los que no se usa aleatoriedad en el proceso, es decir, dados un conjunto de datos y un conjunto de condiciones iniciales, el modelo siempre tomará la misma ruta en el espacio de parámetros para llegar al mismo resultado. Esto es porque no hay variabilidad en la entrada de datos (es decir, no se está usando ninguna técnica de división aleatoria como train_test_split), el algoritmo siempre comienza inicializando los pesos del modelo en ceros, y el descenso de gradiente sigue siendo determinista. Es decir, ya que no hay aleatoriedad involucrada en ningún paso del proceso, el resultado final, incluido el rendimiento del modelo, será exactamente el mismo en cada ejecución. Este código es solo un ejemplo muy simple de un modelo de regresión logística que se puede mejorar o modificar según los requisitos, con técnicas que se pueden agregar para mejorar la eficiencia o al crear aleatoriedad si se desea que el resultado sea diferente entre las ejecuciones."
   ]
  },
  {
   "cell_type": "markdown",
   "metadata": {},
   "source": [
    "El siguiente gráfico muestra cómo la función de costo disminuye hacia un mínimo a lo largo de las iteraciones a medida que se entrena el modelo de regresión logística. Del mismo modo, se puede deducir que el costo es una función monótona decreciente de las iteraciones, lo que significa que el algoritmo de descenso de gradiente está haciendo un buen trabajo disminuyendo los parámetros del modelo de manera efectiva para minimizar el error. La caída es más aguda al principio, lo que significa que las primeras iteraciones están contribuyendo en gran medida a la mejora de la precisión. Pero luego se nivela, lo que significa que el modelo realmente está llegando cerca de la convergencia. Este es un comportamiento clásico en la optimización de modelos de machine learning, a saber, que una vez que comienza el proceso de descenso, la magnitud de los movimientos iniciales es la más significativa, y los ajustes se refinan progresivamente mientras los parámetros se acercan a su equilibrio. Como se muestra en la gráfica, el modelo está efectivamente descendiendo hacia el mínimo de la función de costo, lo cual es una buena señal de que está aprendiendo correctamente de los datos."
   ]
  },
  {
   "cell_type": "code",
   "execution_count": 9,
   "metadata": {},
   "outputs": [
    {
     "data": {
      "application/vnd.plotly.v1+json": {
       "config": {
        "plotlyServerURL": "https://plot.ly"
       },
       "data": [
        {
         "mode": "lines",
         "name": "Costo",
         "type": "scatter",
         "x": [
          0,
          1,
          2,
          3,
          4,
          5,
          6,
          7,
          8,
          9,
          10,
          11,
          12,
          13,
          14,
          15,
          16,
          17,
          18,
          19,
          20,
          21,
          22,
          23,
          24,
          25,
          26,
          27,
          28,
          29,
          30,
          31,
          32,
          33,
          34,
          35,
          36,
          37,
          38,
          39,
          40,
          41,
          42,
          43,
          44,
          45,
          46,
          47,
          48,
          49,
          50,
          51,
          52,
          53,
          54,
          55,
          56,
          57,
          58,
          59,
          60,
          61,
          62,
          63,
          64,
          65,
          66,
          67,
          68,
          69,
          70,
          71,
          72,
          73,
          74,
          75,
          76,
          77,
          78,
          79,
          80,
          81,
          82,
          83,
          84,
          85,
          86,
          87,
          88,
          89,
          90,
          91,
          92,
          93,
          94,
          95,
          96,
          97,
          98,
          99,
          100,
          101,
          102,
          103,
          104,
          105,
          106,
          107,
          108,
          109,
          110,
          111,
          112,
          113,
          114,
          115,
          116,
          117,
          118,
          119,
          120,
          121,
          122,
          123,
          124,
          125,
          126,
          127,
          128,
          129,
          130,
          131,
          132,
          133,
          134,
          135,
          136,
          137,
          138,
          139,
          140,
          141,
          142,
          143,
          144,
          145,
          146,
          147,
          148,
          149,
          150,
          151,
          152,
          153,
          154,
          155,
          156,
          157,
          158,
          159,
          160,
          161,
          162,
          163,
          164,
          165,
          166,
          167,
          168,
          169,
          170,
          171,
          172,
          173,
          174,
          175,
          176,
          177,
          178,
          179,
          180,
          181,
          182,
          183,
          184,
          185,
          186,
          187,
          188,
          189,
          190,
          191,
          192,
          193,
          194,
          195,
          196,
          197,
          198,
          199,
          200,
          201,
          202,
          203,
          204,
          205,
          206,
          207,
          208,
          209,
          210,
          211,
          212,
          213,
          214,
          215,
          216,
          217,
          218,
          219,
          220,
          221,
          222,
          223,
          224,
          225,
          226,
          227,
          228,
          229,
          230,
          231,
          232,
          233,
          234,
          235,
          236,
          237,
          238,
          239,
          240,
          241,
          242,
          243,
          244,
          245,
          246,
          247,
          248,
          249,
          250,
          251,
          252,
          253,
          254,
          255,
          256,
          257,
          258,
          259,
          260,
          261,
          262,
          263,
          264,
          265,
          266,
          267,
          268,
          269,
          270,
          271,
          272,
          273,
          274,
          275,
          276,
          277,
          278,
          279,
          280,
          281,
          282,
          283,
          284,
          285,
          286,
          287,
          288,
          289,
          290,
          291,
          292,
          293,
          294,
          295,
          296,
          297,
          298,
          299,
          300,
          301,
          302,
          303,
          304,
          305,
          306,
          307,
          308,
          309,
          310,
          311,
          312,
          313,
          314,
          315,
          316,
          317,
          318,
          319,
          320,
          321,
          322,
          323,
          324,
          325,
          326,
          327,
          328,
          329,
          330,
          331,
          332,
          333,
          334,
          335,
          336,
          337,
          338,
          339,
          340,
          341,
          342,
          343,
          344,
          345,
          346,
          347,
          348,
          349,
          350,
          351,
          352,
          353,
          354,
          355,
          356,
          357,
          358,
          359,
          360,
          361,
          362,
          363,
          364,
          365,
          366,
          367,
          368,
          369,
          370,
          371,
          372,
          373,
          374,
          375,
          376,
          377,
          378,
          379,
          380,
          381,
          382,
          383,
          384,
          385,
          386,
          387,
          388,
          389,
          390,
          391,
          392,
          393,
          394,
          395,
          396,
          397,
          398,
          399,
          400,
          401,
          402,
          403,
          404,
          405,
          406,
          407,
          408,
          409,
          410,
          411,
          412,
          413,
          414,
          415,
          416,
          417,
          418,
          419,
          420,
          421,
          422,
          423,
          424,
          425,
          426,
          427,
          428,
          429,
          430,
          431,
          432,
          433,
          434,
          435,
          436,
          437,
          438,
          439,
          440,
          441,
          442,
          443,
          444,
          445,
          446,
          447,
          448,
          449,
          450,
          451,
          452,
          453,
          454,
          455,
          456,
          457,
          458,
          459,
          460,
          461,
          462,
          463,
          464,
          465,
          466,
          467,
          468,
          469,
          470,
          471,
          472,
          473,
          474,
          475,
          476,
          477,
          478,
          479,
          480,
          481,
          482,
          483,
          484,
          485,
          486,
          487,
          488,
          489,
          490,
          491,
          492,
          493,
          494,
          495,
          496,
          497,
          498,
          499,
          500,
          501,
          502,
          503,
          504,
          505,
          506,
          507,
          508,
          509,
          510,
          511,
          512,
          513,
          514,
          515,
          516,
          517,
          518,
          519,
          520,
          521,
          522,
          523,
          524,
          525,
          526,
          527,
          528,
          529,
          530,
          531,
          532,
          533,
          534,
          535,
          536,
          537,
          538,
          539,
          540,
          541,
          542,
          543,
          544,
          545,
          546,
          547,
          548,
          549,
          550,
          551,
          552,
          553,
          554,
          555,
          556,
          557,
          558,
          559,
          560,
          561,
          562,
          563,
          564,
          565,
          566,
          567,
          568,
          569,
          570,
          571,
          572,
          573,
          574,
          575,
          576,
          577,
          578,
          579,
          580,
          581,
          582,
          583,
          584,
          585,
          586,
          587,
          588,
          589,
          590,
          591,
          592,
          593,
          594,
          595,
          596,
          597,
          598,
          599,
          600,
          601,
          602,
          603,
          604,
          605,
          606,
          607,
          608,
          609,
          610,
          611,
          612,
          613,
          614,
          615,
          616,
          617,
          618,
          619,
          620,
          621,
          622,
          623,
          624,
          625,
          626,
          627,
          628,
          629,
          630,
          631,
          632,
          633,
          634,
          635,
          636,
          637,
          638,
          639,
          640,
          641,
          642,
          643,
          644,
          645,
          646,
          647,
          648,
          649,
          650,
          651,
          652,
          653,
          654,
          655,
          656,
          657,
          658,
          659,
          660,
          661,
          662,
          663,
          664,
          665,
          666,
          667,
          668,
          669,
          670,
          671,
          672,
          673,
          674,
          675,
          676,
          677,
          678,
          679,
          680,
          681,
          682,
          683,
          684,
          685,
          686,
          687,
          688,
          689,
          690,
          691,
          692,
          693,
          694,
          695,
          696,
          697,
          698,
          699,
          700,
          701,
          702,
          703,
          704,
          705,
          706,
          707,
          708,
          709,
          710,
          711,
          712,
          713,
          714,
          715,
          716,
          717,
          718,
          719,
          720,
          721,
          722,
          723,
          724,
          725,
          726,
          727,
          728,
          729,
          730,
          731,
          732,
          733,
          734,
          735,
          736,
          737,
          738,
          739,
          740,
          741,
          742,
          743,
          744,
          745,
          746,
          747,
          748,
          749,
          750,
          751,
          752,
          753,
          754,
          755,
          756,
          757,
          758,
          759,
          760,
          761,
          762,
          763,
          764,
          765,
          766,
          767,
          768,
          769,
          770,
          771,
          772,
          773,
          774,
          775,
          776,
          777,
          778,
          779,
          780,
          781,
          782,
          783,
          784,
          785,
          786,
          787,
          788,
          789,
          790,
          791,
          792,
          793,
          794,
          795,
          796,
          797,
          798,
          799,
          800,
          801,
          802,
          803,
          804,
          805,
          806,
          807,
          808,
          809,
          810,
          811,
          812,
          813,
          814,
          815,
          816,
          817,
          818,
          819,
          820,
          821,
          822,
          823,
          824,
          825,
          826,
          827,
          828,
          829,
          830,
          831,
          832,
          833,
          834,
          835,
          836,
          837,
          838,
          839,
          840,
          841,
          842,
          843,
          844,
          845,
          846,
          847,
          848,
          849,
          850,
          851,
          852,
          853,
          854,
          855,
          856,
          857,
          858,
          859,
          860,
          861,
          862,
          863,
          864,
          865,
          866,
          867,
          868,
          869,
          870,
          871,
          872,
          873,
          874,
          875,
          876,
          877,
          878,
          879,
          880,
          881,
          882,
          883,
          884,
          885,
          886,
          887,
          888,
          889,
          890,
          891,
          892,
          893,
          894,
          895,
          896,
          897,
          898,
          899,
          900,
          901,
          902,
          903,
          904,
          905,
          906,
          907,
          908,
          909,
          910,
          911,
          912,
          913,
          914,
          915,
          916,
          917,
          918,
          919,
          920,
          921,
          922,
          923,
          924,
          925,
          926,
          927,
          928,
          929,
          930,
          931,
          932,
          933,
          934,
          935,
          936,
          937,
          938,
          939,
          940,
          941,
          942,
          943,
          944,
          945,
          946,
          947,
          948,
          949,
          950,
          951,
          952,
          953,
          954,
          955,
          956,
          957,
          958,
          959,
          960,
          961,
          962,
          963,
          964,
          965,
          966,
          967,
          968,
          969,
          970,
          971,
          972,
          973,
          974,
          975,
          976,
          977,
          978,
          979,
          980,
          981,
          982,
          983,
          984,
          985,
          986,
          987,
          988,
          989,
          990,
          991,
          992,
          993,
          994,
          995,
          996,
          997,
          998,
          999
         ],
         "y": [
          0.6918618596896933,
          0.6905871126701095,
          0.6893228426619884,
          0.6880689534711832,
          0.686825349554496,
          0.685591936025203,
          0.6843686186582133,
          0.6831553038948741,
          0.6819518988474269,
          0.680758311303119,
          0.6795744497279859,
          0.6784002232703008,
          0.6772355417637087,
          0.6760803157300456,
          0.6749344563818529,
          0.6737978756245956,
          0.6726704860585875,
          0.6715522009806364,
          0.6704429343854112,
          0.6693426009665437,
          0.6682511161174658,
          0.6671683959319976,
          0.6660943572046847,
          0.6650289174309006,
          0.6639719948067142,
          0.6629235082285335,
          0.661883377292532,
          0.660851522293863,
          0.6598278642256712,
          0.6588123247779061,
          0.6578048263359444,
          0.6568052919790308,
          0.6558136454785378,
          0.6548298112960578,
          0.6538537145813279,
          0.652885281169998,
          0.6519244375812453,
          0.6509711110152425,
          0.6500252293504863,
          0.6490867211409894,
          0.6481555156133454,
          0.6472315426636679,
          0.6463147328544135,
          0.6454050174110905,
          0.6445023282188597,
          0.6436065978190343,
          0.6427177594054803,
          0.6418357468209251,
          0.6409604945531775,
          0.6400919377312646,
          0.6392300121214896,
          0.638374654123415,
          0.637525800765775,
          0.6366833897023231,
          0.6358473592076157,
          0.6350176481727386,
          0.6341941961009796,
          0.6333769431034488,
          0.6325658298946533,
          0.6317607977880277,
          0.6309617886914245,
          0.6301687451025676,
          0.6293816101044716,
          0.6286003273608315,
          0.6278248411113843,
          0.6270550961672444,
          0.6262910379062202,
          0.6255326122681077,
          0.624779765749971,
          0.6240324454014049,
          0.6232905988197897,
          0.6225541741455332,
          0.6218231200573083,
          0.6210973857672835,
          0.6203769210163517,
          0.6196616760693577,
          0.6189516017103279,
          0.6182466492377007,
          0.6175467704595637,
          0.6168519176888969,
          0.6161620437388227,
          0.6154771019178675,
          0.6147970460252337,
          0.614121830346083,
          0.6134514096468362,
          0.6127857391704861,
          0.6121247746319287,
          0.611468472213311,
          0.6108167885593978,
          0.6101696807729597,
          0.609527106410181,
          0.6088890234760898,
          0.6082553904200114,
          0.6076261661310459,
          0.6070013099335697,
          0.6063807815827632,
          0.6057645412601644,
          0.6051525495692496,
          0.6045447675310421,
          0.603941156579748,
          0.6033416785584229,
          0.6027462957146661,
          0.6021549706963452,
          0.601567666547352,
          0.6009843467033888,
          0.600404974987785,
          0.5998295156073467,
          0.5992579331482377,
          0.5986901925718933,
          0.5981262592109658,
          0.5975660987653038,
          0.597009677297964,
          0.5964569612312572,
          0.5959079173428271,
          0.5953625127617627,
          0.5948207149647453,
          0.5942824917722291,
          0.5937478113446559,
          0.5932166421787037,
          0.5926889531035706,
          0.5921647132772915,
          0.5916438921830901,
          0.5911264596257653,
          0.5906123857281118,
          0.5901016409273744,
          0.5895941959717377,
          0.5890900219168491,
          0.5885890901223767,
          0.588091372248601,
          0.5875968402530403,
          0.5871054663871107,
          0.5866172231928202,
          0.5861320834994947,
          0.5856500204205406,
          0.5851710073502372,
          0.5846950179605663,
          0.5842220261980717,
          0.5837520062807539,
          0.5832849326949963,
          0.5828207801925245,
          0.5823595237873992,
          0.5819011387530388,
          0.581445600619277,
          0.5809928851694501,
          0.5805429684375172,
          0.5800958267052115,
          0.5796514364992228,
          0.5792097745884115,
          0.5787708179810525,
          0.5783345439221106,
          0.577900929890546,
          0.5774699535966494,
          0.5770415929794083,
          0.5766158262039013,
          0.5761926316587228,
          0.575771987953437,
          0.5753538739160602,
          0.5749382685905722,
          0.574525151234456,
          0.5741145013162654,
          0.5737062985132214,
          0.5733005227088349,
          0.5728971539905581,
          0.5724961726474623,
          0.572097559167943,
          0.5717012942374509,
          0.5713073587362506,
          0.5709157337372041,
          0.570526400503581,
          0.5701393404868942,
          0.5697545353247602,
          0.5693719668387859,
          0.5689916170324788,
          0.5686134680891831,
          0.5682375023700388,
          0.5678637024119662,
          0.5674920509256731,
          0.5671225307936867,
          0.5667551250684075,
          0.5663898169701876,
          0.5660265898854309,
          0.5656654273647166,
          0.5653063131209437,
          0.5649492310275002,
          0.5645941651164506,
          0.5642410995767485,
          0.5638900187524679,
          0.5635409071410572,
          0.5631937493916135,
          0.5628485303031776,
          0.5625052348230493,
          0.5621638480451234,
          0.561824355208245,
          0.5614867416945849,
          0.5611509930280343,
          0.5608170948726193,
          0.5604850330309332,
          0.5601547934425899,
          0.5598263621826927,
          0.5594997254603244,
          0.5591748696170543,
          0.5588517811254632,
          0.5585304465876859,
          0.5582108527339719,
          0.5578929864212632,
          0.5575768346317888,
          0.5572623844716766,
          0.5569496231695817,
          0.5566385380753317,
          0.5563291166585872,
          0.5560213465075199,
          0.5557152153275056,
          0.5554107109398335,
          0.5551078212804299,
          0.554806534398599,
          0.5545068384557776,
          0.5542087217243052,
          0.5539121725862086,
          0.5536171795320015,
          0.5533237311594983,
          0.5530318161726422,
          0.5527414233803474,
          0.5524525416953553,
          0.5521651601331039,
          0.5518792678106119,
          0.5515948539453747,
          0.5513119078542746,
          0.5510304189525046,
          0.5507503767525032,
          0.5504717708629038,
          0.5501945909874961,
          0.5499188269241992,
          0.5496444685640486,
          0.549371505890193,
          0.5490999289769053,
          0.5488297279886044,
          0.5485608931788885,
          0.5482934148895804,
          0.5480272835497837,
          0.5477624896749509,
          0.547499023865962,
          0.5472368768082141,
          0.5469760392707221,
          0.5467165021052305,
          0.5464582562453342,
          0.5462012927056115,
          0.5459456025807664,
          0.5456911770447813,
          0.5454380073500799,
          0.5451860848266992,
          0.5449354008814726,
          0.544685946997222,
          0.5444377147319585,
          0.5441906957180944,
          0.543944881661663,
          0.5437002643415483,
          0.5434568356087233,
          0.5432145873854977,
          0.5429735116647745,
          0.5427336005093142,
          0.5424948460510095,
          0.542257240490167,
          0.5420207760947977,
          0.5417854451999164,
          0.541551240206848,
          0.5413181535825433,
          0.5410861778589023,
          0.5408553056321044,
          0.540625529561948,
          0.5403968423711969,
          0.5401692368449342,
          0.5399427058299242,
          0.5397172422339809,
          0.5394928390253451,
          0.5392694892320674,
          0.5390471859413989,
          0.5388259222991894,
          0.5386056915092912,
          0.5383864868329714,
          0.5381683015883303,
          0.5379511291497258,
          0.5377349629472051,
          0.5375197964659435,
          0.5373056232456881,
          0.5370924368802095,
          0.5368802310167584,
          0.53666899935553,
          0.5364587356491322,
          0.5362494337020622,
          0.5360410873701884,
          0.5358336905602366,
          0.5356272372292847,
          0.5354217213842611,
          0.5352171370814494,
          0.5350134784259991,
          0.5348107395714417,
          0.5346089147192115,
          0.5344079981181729,
          0.5342079840641524,
          0.5340088668994764,
          0.5338106410125132,
          0.5336133008372212,
          0.5334168408527017,
          0.5332212555827571,
          0.5330265395954531,
          0.532832687502687,
          0.5326396939597601,
          0.5324475536649549,
          0.5322562613591175,
          0.5320658118252445,
          0.5318761998880732,
          0.5316874204136792,
          0.5314994683090752,
          0.531312338521817,
          0.5311260260396119,
          0.5309405258899323,
          0.5307558331396343,
          0.5305719428945785,
          0.5303888502992572,
          0.530206550536424,
          0.5300250388267286,
          0.5298443104283549,
          0.5296643606366638,
          0.5294851847838388,
          0.5293067782385367,
          0.5291291364055415,
          0.528952254725422,
          0.5287761286741934,
          0.5286007537629823,
          0.5284261255376961,
          0.5282522395786945,
          0.5280790915004665,
          0.5279066769513092,
          0.527734991613011,
          0.5275640312005381,
          0.5273937914617242,
          0.5272242681769634,
          0.5270554571589077,
          0.5268873542521652,
          0.526719955333004,
          0.5265532563090582,
          0.5263872531190373,
          0.5262219417324383,
          0.5260573181492612,
          0.525893378399728,
          0.5257301185440039,
          0.5255675346719215,
          0.5254056229027091,
          0.5252443793847198,
          0.5250838002951661,
          0.5249238818398548,
          0.5247646202529267,
          0.5246060117965974,
          0.5244480527609019,
          0.5242907394634422,
          0.5241340682491361,
          0.5239780354899701,
          0.5238226375847544,
          0.5236678709588799,
          0.5235137320640784,
          0.5233602173781857,
          0.5232073234049059,
          0.5230550466735795,
          0.522903383738953,
          0.5227523311809512,
          0.5226018856044522,
          0.5224520436390641,
          0.5223028019389044,
          0.5221541571823823,
          0.5220061060719816,
          0.5218586453340471,
          0.5217117717185737,
          0.5215654819989963,
          0.5214197729719822,
          0.5212746414572266,
          0.5211300842972493,
          0.5209860983571937,
          0.5208426805246275,
          0.5206998277093466,
          0.52055753684318,
          0.5204158048797959,
          0.5202746287945124,
          0.5201340055841076,
          0.5199939322666325,
          0.5198544058812264,
          0.5197154234879331,
          0.5195769821675197,
          0.5194390790212973,
          0.5193017111709429,
          0.5191648757583234,
          0.5190285699453216,
          0.518892790913664,
          0.5187575358647496,
          0.5186228020194813,
          0.5184885866180983,
          0.5183548869200107,
          0.518221700203636,
          0.5180890237662353,
          0.5179568549237545,
          0.5178251910106644,
          0.5176940293798022,
          0.5175633674022173,
          0.5174332024670159,
          0.517303531981208,
          0.517174353369557,
          0.5170456640744285,
          0.5169174615556432,
          0.5167897432903292,
          0.5166625067727768,
          0.5165357495142947,
          0.5164094690430667,
          0.5162836629040114,
          0.5161583286586416,
          0.5160334638849264,
          0.5159090661771537,
          0.5157851331457947,
          0.5156616624173689,
          0.515538651634312,
          0.5154160984548433,
          0.5152940005528351,
          0.5151723556176839,
          0.5150511613541819,
          0.5149304154823904,
          0.5148101157375142,
          0.5146902598697776,
          0.5145708456443003,
          0.5144518708409765,
          0.5143333332543536,
          0.514215230693512,
          0.514097560981948,
          0.5139803219574551,
          0.5138635114720085,
          0.5137471273916492,
          0.5136311675963714,
          0.5135156299800082,
          0.5134005124501202,
          0.5132858129278848,
          0.5131715293479862,
          0.513057659658507,
          0.5129442018208206,
          0.5128311538094836,
          0.5127185136121316,
          0.5126062792293732,
          0.5124944486746874,
          0.51238301997432,
          0.5122719911671825,
          0.5121613603047509,
          0.5120511254509662,
          0.5119412846821355,
          0.5118318360868335,
          0.5117227777658062,
          0.5116141078318739,
          0.5115058244098369,
          0.5113979256363803,
          0.511290409659981,
          0.5111832746408148,
          0.5110765187506647,
          0.5109701401728299,
          0.5108641371020363,
          0.510758507744346,
          0.51065325031707,
          0.5105483630486805,
          0.5104438441787231,
          0.5103396919577324,
          0.5102359046471452,
          0.5101324805192166,
          0.5100294178569367,
          0.5099267149539478,
          0.5098243701144612,
          0.5097223816531771,
          0.5096207478952026,
          0.5095194671759731,
          0.5094185378411723,
          0.5093179582466538,
          0.5092177267583635,
          0.5091178417522626,
          0.5090183016142507,
          0.5089191047400907,
          0.5088202495353336,
          0.5087217344152442,
          0.5086235578047271,
          0.5085257181382543,
          0.5084282138597926,
          0.5083310434227314,
          0.5082342052898123,
          0.5081376979330589,
          0.5080415198337055,
          0.50794566948213,
          0.507850145377784,
          0.5077549460291249,
          0.507660069953549,
          0.5075655156773247,
          0.507471281735526,
          0.5073773666719675,
          0.5072837690391385,
          0.5071904873981393,
          0.5070975203186174,
          0.5070048663787037,
          0.5069125241649501,
          0.5068204922722672,
          0.5067287693038628,
          0.5066373538711806,
          0.5065462445938395,
          0.506455440099574,
          0.5063649390241745,
          0.506274740011428,
          0.5061848417130602,
          0.5060952427886769,
          0.5060059419057066,
          0.5059169377393444,
          0.5058282289724941,
          0.5057398142957135,
          0.5056516924071577,
          0.5055638620125253,
          0.505476321825003,
          0.5053890705652115,
          0.5053021069611524,
          0.5052154297481544,
          0.5051290376688213,
          0.5050429294729791,
          0.5049571039176243,
          0.5048715597668729,
          0.5047862957919091,
          0.5047013107709349,
          0.5046166034891202,
          0.5045321727385528,
          0.5044480173181892,
          0.5043641360338064,
          0.5042805276979525,
          0.5041971911298999,
          0.5041141251555963,
          0.504031328607619,
          0.5039488003251271,
          0.5038665391538153,
          0.5037845439458681,
          0.5037028135599142,
          0.5036213468609807,
          0.5035401427204493,
          0.503459200016011,
          0.5033785176316219,
          0.5032980944574601,
          0.5032179293898817,
          0.5031380213313783,
          0.5030583691905339,
          0.5029789718819828,
          0.5028998283263678,
          0.5028209374502981,
          0.5027422981863087,
          0.5026639094728186,
          0.5025857702540912,
          0.5025078794801934,
          0.5024302361069557,
          0.5023528390959331,
          0.502275687414365,
          0.502198780035137,
          0.5021221159367418,
          0.5020456941032415,
          0.5019695135242288,
          0.5018935731947894,
          0.5018178721154656,
          0.5017424092922178,
          0.501667183736389,
          0.5015921944646672,
          0.5015174404990501,
          0.5014429208668088,
          0.501368634600452,
          0.5012945807376914,
          0.5012207583214054,
          0.5011471663996062,
          0.5010738040254034,
          0.5010006702569708,
          0.5009277641575127,
          0.5008550847952296,
          0.5007826312432853,
          0.5007104025797733,
          0.5006383978876848,
          0.500566616254875,
          0.5004950567740316,
          0.5004237185426424,
          0.5003526006629638,
          0.5002817022419885,
          0.5002110223914151,
          0.5001405602276164,
          0.5000703148716089,
          0.5000002854490222,
          0.49993047109006805,
          0.4998608709295114,
          0.49979148410663976,
          0.49972230976523335,
          0.4996533470535368,
          0.49958459512422865,
          0.4995160531343933,
          0.49944772024549194,
          0.49937959562333445,
          0.4993116784380505,
          0.4992439678640621,
          0.4991764630800553,
          0.49910916326895327,
          0.49904206761788805,
          0.498975175318174,
          0.49890848556528045,
          0.4988419975588053,
          0.4987757105024482,
          0.49870962360398413,
          0.4986437360752377,
          0.4985780471320565,
          0.4985125559942861,
          0.4984472618857441,
          0.49838216403419455,
          0.4983172616713234,
          0.49825255403271307,
          0.49818804035781794,
          0.4981237198899394,
          0.49805959187620186,
          0.49799565556752834,
          0.4979319102186165,
          0.49786835508791466,
          0.49780498943759843,
          0.49774181253354677,
          0.49767882364531923,
          0.49761602204613253,
          0.4975534070128372,
          0.49749097782589563,
          0.49742873376935887,
          0.49736667413084445,
          0.4973047982015138,
          0.4972431052760507,
          0.49718159465263867,
          0.49712026563293965,
          0.4970591175220722,
          0.4969981496285903,
          0.49693736126446153,
          0.49687675174504653,
          0.49681632038907775,
          0.4967560665186386,
          0.49669598945914256,
          0.49663608853931357,
          0.4965763630911644,
          0.49651681244997736,
          0.49645743595428404,
          0.4963982329458453,
          0.4963392027696312,
          0.4962803447738023,
          0.4962216583096889,
          0.4961631427317731,
          0.49610479739766833,
          0.49604662166810126,
          0.4959886149068923,
          0.49593077648093714,
          0.49587310576018806,
          0.4958156021176352,
          0.49575826492928865,
          0.4957010935741599,
          0.4956440874342435,
          0.4955872458944999,
          0.4955305683428366,
          0.4954740541700913,
          0.49541770277001396,
          0.4953615135392492,
          0.4953054858773192,
          0.4952496191866066,
          0.4951939128723371,
          0.4951383663425627,
          0.49508297900814485,
          0.4950277502827377,
          0.4949726795827717,
          0.4949177663274368,
          0.4948630099386664,
          0.4948084098411208,
          0.4947539654621716,
          0.49469967623188477,
          0.494645541583006,
          0.4945915609509439,
          0.4945377337737547,
          0.4944840594921268,
          0.4944305375493652,
          0.4943771673913762,
          0.49432394846665195,
          0.49427088022625576,
          0.49421796212380675,
          0.49416519361546507,
          0.4941125741599173,
          0.49406010321836097,
          0.4940077802544911,
          0.49395560473448485,
          0.49390357612698743,
          0.4938516939030979,
          0.4937999575363546,
          0.4937483665027217,
          0.4936969202805746,
          0.4936456183506862,
          0.49359446019621345,
          0.493543445302683,
          0.4934925731579781,
          0.4934418432523252,
          0.49339125507827986,
          0.49334080813071424,
          0.4932905019068029,
          0.49324033590601074,
          0.4931903096300792,
          0.4931404225830135,
          0.49309067427106995,
          0.49304106420274263,
          0.4929915918887516,
          0.4929422568420291,
          0.49289305857770815,
          0.49284399661310957,
          0.4927950704677295,
          0.4927462796632274,
          0.49269762372341397,
          0.4926491021742385,
          0.49260071454377746,
          0.4925524603622222,
          0.49250433916186737,
          0.4924563504770987,
          0.49240849384438184,
          0.49236076880225027,
          0.4923131748912941,
          0.49226571165414834,
          0.4922183786354819,
          0.49217117538198557,
          0.49212410144236185,
          0.4920771563673126,
          0.492030339709529,
          0.4919836510236797,
          0.4919370898664006,
          0.4918906557962835,
          0.49184434837386554,
          0.49179816716161834,
          0.49175211172393746,
          0.49170618162713187,
          0.49166037643941324,
          0.4916146957308857,
          0.49156913907353533,
          0.4915237060412202,
          0.4914783962096596,
          0.4914332091564244,
          0.4913881444609265,
          0.49134320170440915,
          0.4912983804699369,
          0.4912536803423855,
          0.4912091009084324,
          0.49116464175654695,
          0.49112030247698013,
          0.49107608266175573,
          0.49103198190466035,
          0.49098799980123375,
          0.4909441359487599,
          0.490900389946257,
          0.49085676139446843,
          0.4908132498958538,
          0.49076985505457893,
          0.49072657647650764,
          0.490683413769192,
          0.4906403665418637,
          0.4905974344054246,
          0.4905546169724384,
          0.49051191385712134,
          0.4904693246753339,
          0.4904268490445711,
          0.4903844865839551,
          0.4903422369142255,
          0.49030009965773147,
          0.49025807443842284,
          0.4902161608818414,
          0.4901743586151134,
          0.49013266726694027,
          0.4900910864675909,
          0.49004961584889295,
          0.49000825504422496,
          0.4899670036885082,
          0.4899258614181983,
          0.48988482787127774,
          0.48984390268724703,
          0.4898030855071179,
          0.489762375973404,
          0.4897217737301146,
          0.48968127842274545,
          0.4896408896982721,
          0.48960060720514137,
          0.48956043059326426,
          0.48952035951400796,
          0.4894803936201889,
          0.4894405325660645,
          0.48940077600732634,
          0.4893611236010922,
          0.489321575005899,
          0.48928212988169584,
          0.4892427878898361,
          0.48920354869307064,
          0.4891644119555401,
          0.4891253773427687,
          0.48908644452165595,
          0.48904761316047085,
          0.48900888292884376,
          0.48897025349776035,
          0.4889317245395542,
          0.48889329572789986,
          0.48885496673780626,
          0.4888167372456101,
          0.48877860692896835,
          0.48874057546685257,
          0.4887026425395413,
          0.4886648078286143,
          0.488627071016945,
          0.4885894317886952,
          0.4885518898293069,
          0.4885144448254978,
          0.4884770964652532,
          0.4884398444378206,
          0.48840268843370305,
          0.4883656281446527,
          0.48832866326366464,
          0.488291793484971,
          0.48825501850403424,
          0.4882183380175414,
          0.48818175172339756,
          0.4881452593207203,
          0.48810886050983315,
          0.4880725549922599,
          0.4880363424707186,
          0.4880002226491156,
          0.48796419523253937,
          0.4879282599272551,
          0.48789241644069864,
          0.4878566644814708,
          0.48782100375933135,
          0.48778543398519336,
          0.48774995487111816,
          0.48771456613030845,
          0.487679267477104,
          0.4876440586269749,
          0.48760893929651716,
          0.4875739092034459,
          0.48753896806659097,
          0.487504115605891,
          0.4874693515423879,
          0.48743467559822184,
          0.4874000874966254,
          0.4873655869619187,
          0.48733117371950363,
          0.4872968474958593,
          0.4872626080185361,
          0.48722845501615075,
          0.4871943882183811,
          0.48716040735596133,
          0.48712651216067615,
          0.48709270236535646,
          0.48705897770387363,
          0.48702533791113495,
          0.4869917827230785,
          0.48695831187666827,
          0.48692492510988894,
          0.4868916221617412,
          0.4868584027722368,
          0.4868252666823939,
          0.486792213634232,
          0.4867592433707669,
          0.48672635563600697,
          0.4866935501749472,
          0.4866608267335649,
          0.4866281850588155,
          0.48659562489862723,
          0.486563146001897,
          0.4865307481184853,
          0.486498430999212,
          0.48646619439585176,
          0.4864340380611295,
          0.48640196174871564,
          0.48636996521322173,
          0.48633804821019666,
          0.48630621049612116,
          0.486274451828404,
          0.4862427719653779,
          0.4862111706662944,
          0.48617964769132005,
          0.4861482028015323,
          0.4861168357589148,
          0.4860855463263532,
          0.48605433426763134,
          0.48602319934742644,
          0.4859921413313054,
          0.4859611599857206,
          0.4859302550780054,
          0.4858994263763705,
          0.4858686736498996,
          0.4858379966685452,
          0.48580739520312527,
          0.4857768690253182,
          0.4857464179076596,
          0.485716041623538,
          0.4856857399471909,
          0.48565551265370105,
          0.4856253595189924,
          0.48559528031982613,
          0.48556527483379697,
          0.4855353428393295,
          0.4855054841156736,
          0.48547569844290167,
          0.48544598560190405,
          0.4854163453743859,
          0.48538677754286286,
          0.4853572818906578,
          0.48532785820189683,
          0.48529850626150595,
          0.48526922585520715,
          0.4852400167695146,
          0.48521087879173164,
          0.4851818117099467,
          0.4851528153130298,
          0.4851238893906289,
          0.4850950337331672,
          0.4850662481318381,
          0.4850375323786032,
          0.48500888626618777,
          0.4849803095880783,
          0.4849518021385178,
          0.4849233637125035,
          0.48489499410578285,
          0.48486669311485064,
          0.4848384605369448,
          0.484810296170044,
          0.48478219981286363,
          0.48475417126485293,
          0.48472621032619145,
          0.48469831679778613,
          0.4846704904812672,
          0.48464273117898615,
          0.48461503869401157,
          0.48458741283012624,
          0.4845598533918241,
          0.484532360184307,
          0.4845049330134814,
          0.4844775716859553,
          0.48445027600903545,
          0.48442304579072354,
          0.4843958808397142,
          0.4843687809653906,
          0.4843417459778224,
          0.4843147756877627,
          0.4842878699066442,
          0.484261028446577,
          0.48423425112034535,
          0.4842075377414048,
          0.4841808881238788,
          0.4841543020825564,
          0.4841277794328889,
          0.48410131999098704,
          0.48407492357361825,
          0.48404858999820366,
          0.4840223190828149,
          0.4839961106461721,
          0.4839699645076402,
          0.4839438804872267,
          0.48391785840557844,
          0.4838918980839793,
          0.48386599934434704,
          0.4838401620092305,
          0.4838143859018072,
          0.4837886708458804,
          0.48376301666587646,
          0.483737423186842,
          0.48371189023444133,
          0.48368641763495385,
          0.4836610052152713,
          0.483635652802895,
          0.4836103602259336,
          0.4835851273130999,
          0.48355995389370865,
          0.48353483979767425,
          0.4835097848555071,
          0.48348478889831253,
          0.48345985175778683,
          0.48343497326621554,
          0.48341015325647085,
          0.4833853915620089,
          0.4833606880168674,
          0.48333604245566286,
          0.48331145471358883,
          0.4832869246264125,
          0.4832624520304729,
          0.48323803676267874,
          0.48321367866050463,
          0.48318937756199054,
          0.48316513330573785,
          0.48314094573090777,
          0.4831168146772189,
          0.48309273998494456,
          0.4830687214949106,
          0.48304475904849326,
          0.4830208524876167,
          0.4829970016547505,
          0.4829732063929078,
          0.48294946654564225,
          0.48292578195704683,
          0.4829021524717506,
          0.482878577934917,
          0.48285505819224134,
          0.4828315930899488,
          0.4828081824747919
         ]
        }
       ],
       "layout": {
        "template": {
         "data": {
          "bar": [
           {
            "error_x": {
             "color": "#2a3f5f"
            },
            "error_y": {
             "color": "#2a3f5f"
            },
            "marker": {
             "line": {
              "color": "#E5ECF6",
              "width": 0.5
             },
             "pattern": {
              "fillmode": "overlay",
              "size": 10,
              "solidity": 0.2
             }
            },
            "type": "bar"
           }
          ],
          "barpolar": [
           {
            "marker": {
             "line": {
              "color": "#E5ECF6",
              "width": 0.5
             },
             "pattern": {
              "fillmode": "overlay",
              "size": 10,
              "solidity": 0.2
             }
            },
            "type": "barpolar"
           }
          ],
          "carpet": [
           {
            "aaxis": {
             "endlinecolor": "#2a3f5f",
             "gridcolor": "white",
             "linecolor": "white",
             "minorgridcolor": "white",
             "startlinecolor": "#2a3f5f"
            },
            "baxis": {
             "endlinecolor": "#2a3f5f",
             "gridcolor": "white",
             "linecolor": "white",
             "minorgridcolor": "white",
             "startlinecolor": "#2a3f5f"
            },
            "type": "carpet"
           }
          ],
          "choropleth": [
           {
            "colorbar": {
             "outlinewidth": 0,
             "ticks": ""
            },
            "type": "choropleth"
           }
          ],
          "contour": [
           {
            "colorbar": {
             "outlinewidth": 0,
             "ticks": ""
            },
            "colorscale": [
             [
              0,
              "#0d0887"
             ],
             [
              0.1111111111111111,
              "#46039f"
             ],
             [
              0.2222222222222222,
              "#7201a8"
             ],
             [
              0.3333333333333333,
              "#9c179e"
             ],
             [
              0.4444444444444444,
              "#bd3786"
             ],
             [
              0.5555555555555556,
              "#d8576b"
             ],
             [
              0.6666666666666666,
              "#ed7953"
             ],
             [
              0.7777777777777778,
              "#fb9f3a"
             ],
             [
              0.8888888888888888,
              "#fdca26"
             ],
             [
              1,
              "#f0f921"
             ]
            ],
            "type": "contour"
           }
          ],
          "contourcarpet": [
           {
            "colorbar": {
             "outlinewidth": 0,
             "ticks": ""
            },
            "type": "contourcarpet"
           }
          ],
          "heatmap": [
           {
            "colorbar": {
             "outlinewidth": 0,
             "ticks": ""
            },
            "colorscale": [
             [
              0,
              "#0d0887"
             ],
             [
              0.1111111111111111,
              "#46039f"
             ],
             [
              0.2222222222222222,
              "#7201a8"
             ],
             [
              0.3333333333333333,
              "#9c179e"
             ],
             [
              0.4444444444444444,
              "#bd3786"
             ],
             [
              0.5555555555555556,
              "#d8576b"
             ],
             [
              0.6666666666666666,
              "#ed7953"
             ],
             [
              0.7777777777777778,
              "#fb9f3a"
             ],
             [
              0.8888888888888888,
              "#fdca26"
             ],
             [
              1,
              "#f0f921"
             ]
            ],
            "type": "heatmap"
           }
          ],
          "heatmapgl": [
           {
            "colorbar": {
             "outlinewidth": 0,
             "ticks": ""
            },
            "colorscale": [
             [
              0,
              "#0d0887"
             ],
             [
              0.1111111111111111,
              "#46039f"
             ],
             [
              0.2222222222222222,
              "#7201a8"
             ],
             [
              0.3333333333333333,
              "#9c179e"
             ],
             [
              0.4444444444444444,
              "#bd3786"
             ],
             [
              0.5555555555555556,
              "#d8576b"
             ],
             [
              0.6666666666666666,
              "#ed7953"
             ],
             [
              0.7777777777777778,
              "#fb9f3a"
             ],
             [
              0.8888888888888888,
              "#fdca26"
             ],
             [
              1,
              "#f0f921"
             ]
            ],
            "type": "heatmapgl"
           }
          ],
          "histogram": [
           {
            "marker": {
             "pattern": {
              "fillmode": "overlay",
              "size": 10,
              "solidity": 0.2
             }
            },
            "type": "histogram"
           }
          ],
          "histogram2d": [
           {
            "colorbar": {
             "outlinewidth": 0,
             "ticks": ""
            },
            "colorscale": [
             [
              0,
              "#0d0887"
             ],
             [
              0.1111111111111111,
              "#46039f"
             ],
             [
              0.2222222222222222,
              "#7201a8"
             ],
             [
              0.3333333333333333,
              "#9c179e"
             ],
             [
              0.4444444444444444,
              "#bd3786"
             ],
             [
              0.5555555555555556,
              "#d8576b"
             ],
             [
              0.6666666666666666,
              "#ed7953"
             ],
             [
              0.7777777777777778,
              "#fb9f3a"
             ],
             [
              0.8888888888888888,
              "#fdca26"
             ],
             [
              1,
              "#f0f921"
             ]
            ],
            "type": "histogram2d"
           }
          ],
          "histogram2dcontour": [
           {
            "colorbar": {
             "outlinewidth": 0,
             "ticks": ""
            },
            "colorscale": [
             [
              0,
              "#0d0887"
             ],
             [
              0.1111111111111111,
              "#46039f"
             ],
             [
              0.2222222222222222,
              "#7201a8"
             ],
             [
              0.3333333333333333,
              "#9c179e"
             ],
             [
              0.4444444444444444,
              "#bd3786"
             ],
             [
              0.5555555555555556,
              "#d8576b"
             ],
             [
              0.6666666666666666,
              "#ed7953"
             ],
             [
              0.7777777777777778,
              "#fb9f3a"
             ],
             [
              0.8888888888888888,
              "#fdca26"
             ],
             [
              1,
              "#f0f921"
             ]
            ],
            "type": "histogram2dcontour"
           }
          ],
          "mesh3d": [
           {
            "colorbar": {
             "outlinewidth": 0,
             "ticks": ""
            },
            "type": "mesh3d"
           }
          ],
          "parcoords": [
           {
            "line": {
             "colorbar": {
              "outlinewidth": 0,
              "ticks": ""
             }
            },
            "type": "parcoords"
           }
          ],
          "pie": [
           {
            "automargin": true,
            "type": "pie"
           }
          ],
          "scatter": [
           {
            "fillpattern": {
             "fillmode": "overlay",
             "size": 10,
             "solidity": 0.2
            },
            "type": "scatter"
           }
          ],
          "scatter3d": [
           {
            "line": {
             "colorbar": {
              "outlinewidth": 0,
              "ticks": ""
             }
            },
            "marker": {
             "colorbar": {
              "outlinewidth": 0,
              "ticks": ""
             }
            },
            "type": "scatter3d"
           }
          ],
          "scattercarpet": [
           {
            "marker": {
             "colorbar": {
              "outlinewidth": 0,
              "ticks": ""
             }
            },
            "type": "scattercarpet"
           }
          ],
          "scattergeo": [
           {
            "marker": {
             "colorbar": {
              "outlinewidth": 0,
              "ticks": ""
             }
            },
            "type": "scattergeo"
           }
          ],
          "scattergl": [
           {
            "marker": {
             "colorbar": {
              "outlinewidth": 0,
              "ticks": ""
             }
            },
            "type": "scattergl"
           }
          ],
          "scattermapbox": [
           {
            "marker": {
             "colorbar": {
              "outlinewidth": 0,
              "ticks": ""
             }
            },
            "type": "scattermapbox"
           }
          ],
          "scatterpolar": [
           {
            "marker": {
             "colorbar": {
              "outlinewidth": 0,
              "ticks": ""
             }
            },
            "type": "scatterpolar"
           }
          ],
          "scatterpolargl": [
           {
            "marker": {
             "colorbar": {
              "outlinewidth": 0,
              "ticks": ""
             }
            },
            "type": "scatterpolargl"
           }
          ],
          "scatterternary": [
           {
            "marker": {
             "colorbar": {
              "outlinewidth": 0,
              "ticks": ""
             }
            },
            "type": "scatterternary"
           }
          ],
          "surface": [
           {
            "colorbar": {
             "outlinewidth": 0,
             "ticks": ""
            },
            "colorscale": [
             [
              0,
              "#0d0887"
             ],
             [
              0.1111111111111111,
              "#46039f"
             ],
             [
              0.2222222222222222,
              "#7201a8"
             ],
             [
              0.3333333333333333,
              "#9c179e"
             ],
             [
              0.4444444444444444,
              "#bd3786"
             ],
             [
              0.5555555555555556,
              "#d8576b"
             ],
             [
              0.6666666666666666,
              "#ed7953"
             ],
             [
              0.7777777777777778,
              "#fb9f3a"
             ],
             [
              0.8888888888888888,
              "#fdca26"
             ],
             [
              1,
              "#f0f921"
             ]
            ],
            "type": "surface"
           }
          ],
          "table": [
           {
            "cells": {
             "fill": {
              "color": "#EBF0F8"
             },
             "line": {
              "color": "white"
             }
            },
            "header": {
             "fill": {
              "color": "#C8D4E3"
             },
             "line": {
              "color": "white"
             }
            },
            "type": "table"
           }
          ]
         },
         "layout": {
          "annotationdefaults": {
           "arrowcolor": "#2a3f5f",
           "arrowhead": 0,
           "arrowwidth": 1
          },
          "autotypenumbers": "strict",
          "coloraxis": {
           "colorbar": {
            "outlinewidth": 0,
            "ticks": ""
           }
          },
          "colorscale": {
           "diverging": [
            [
             0,
             "#8e0152"
            ],
            [
             0.1,
             "#c51b7d"
            ],
            [
             0.2,
             "#de77ae"
            ],
            [
             0.3,
             "#f1b6da"
            ],
            [
             0.4,
             "#fde0ef"
            ],
            [
             0.5,
             "#f7f7f7"
            ],
            [
             0.6,
             "#e6f5d0"
            ],
            [
             0.7,
             "#b8e186"
            ],
            [
             0.8,
             "#7fbc41"
            ],
            [
             0.9,
             "#4d9221"
            ],
            [
             1,
             "#276419"
            ]
           ],
           "sequential": [
            [
             0,
             "#0d0887"
            ],
            [
             0.1111111111111111,
             "#46039f"
            ],
            [
             0.2222222222222222,
             "#7201a8"
            ],
            [
             0.3333333333333333,
             "#9c179e"
            ],
            [
             0.4444444444444444,
             "#bd3786"
            ],
            [
             0.5555555555555556,
             "#d8576b"
            ],
            [
             0.6666666666666666,
             "#ed7953"
            ],
            [
             0.7777777777777778,
             "#fb9f3a"
            ],
            [
             0.8888888888888888,
             "#fdca26"
            ],
            [
             1,
             "#f0f921"
            ]
           ],
           "sequentialminus": [
            [
             0,
             "#0d0887"
            ],
            [
             0.1111111111111111,
             "#46039f"
            ],
            [
             0.2222222222222222,
             "#7201a8"
            ],
            [
             0.3333333333333333,
             "#9c179e"
            ],
            [
             0.4444444444444444,
             "#bd3786"
            ],
            [
             0.5555555555555556,
             "#d8576b"
            ],
            [
             0.6666666666666666,
             "#ed7953"
            ],
            [
             0.7777777777777778,
             "#fb9f3a"
            ],
            [
             0.8888888888888888,
             "#fdca26"
            ],
            [
             1,
             "#f0f921"
            ]
           ]
          },
          "colorway": [
           "#636efa",
           "#EF553B",
           "#00cc96",
           "#ab63fa",
           "#FFA15A",
           "#19d3f3",
           "#FF6692",
           "#B6E880",
           "#FF97FF",
           "#FECB52"
          ],
          "font": {
           "color": "#2a3f5f"
          },
          "geo": {
           "bgcolor": "white",
           "lakecolor": "white",
           "landcolor": "#E5ECF6",
           "showlakes": true,
           "showland": true,
           "subunitcolor": "white"
          },
          "hoverlabel": {
           "align": "left"
          },
          "hovermode": "closest",
          "mapbox": {
           "style": "light"
          },
          "paper_bgcolor": "white",
          "plot_bgcolor": "#E5ECF6",
          "polar": {
           "angularaxis": {
            "gridcolor": "white",
            "linecolor": "white",
            "ticks": ""
           },
           "bgcolor": "#E5ECF6",
           "radialaxis": {
            "gridcolor": "white",
            "linecolor": "white",
            "ticks": ""
           }
          },
          "scene": {
           "xaxis": {
            "backgroundcolor": "#E5ECF6",
            "gridcolor": "white",
            "gridwidth": 2,
            "linecolor": "white",
            "showbackground": true,
            "ticks": "",
            "zerolinecolor": "white"
           },
           "yaxis": {
            "backgroundcolor": "#E5ECF6",
            "gridcolor": "white",
            "gridwidth": 2,
            "linecolor": "white",
            "showbackground": true,
            "ticks": "",
            "zerolinecolor": "white"
           },
           "zaxis": {
            "backgroundcolor": "#E5ECF6",
            "gridcolor": "white",
            "gridwidth": 2,
            "linecolor": "white",
            "showbackground": true,
            "ticks": "",
            "zerolinecolor": "white"
           }
          },
          "shapedefaults": {
           "line": {
            "color": "#2a3f5f"
           }
          },
          "ternary": {
           "aaxis": {
            "gridcolor": "white",
            "linecolor": "white",
            "ticks": ""
           },
           "baxis": {
            "gridcolor": "white",
            "linecolor": "white",
            "ticks": ""
           },
           "bgcolor": "#E5ECF6",
           "caxis": {
            "gridcolor": "white",
            "linecolor": "white",
            "ticks": ""
           }
          },
          "title": {
           "x": 0.05
          },
          "xaxis": {
           "automargin": true,
           "gridcolor": "white",
           "linecolor": "white",
           "ticks": "",
           "title": {
            "standoff": 15
           },
           "zerolinecolor": "white",
           "zerolinewidth": 2
          },
          "yaxis": {
           "automargin": true,
           "gridcolor": "white",
           "linecolor": "white",
           "ticks": "",
           "title": {
            "standoff": 15
           },
           "zerolinecolor": "white",
           "zerolinewidth": 2
          }
         }
        },
        "title": {
         "text": "Convergencia de la función de costo"
        },
        "xaxis": {
         "title": {
          "text": "Número de Iteraciones"
         }
        },
        "yaxis": {
         "title": {
          "text": "Costo"
         }
        }
       }
      }
     },
     "metadata": {},
     "output_type": "display_data"
    }
   ],
   "source": [
    "\n",
    "# Gráfico de la función de costo\n",
    "fig = go.Figure()\n",
    "\n",
    "fig.add_trace(go.Scatter(\n",
    "    x=list(range(len(cost_history))),\n",
    "    y=cost_history,\n",
    "    mode='lines',\n",
    "    name='Costo'\n",
    "))\n",
    "\n",
    "fig.update_layout(\n",
    "    title='Convergencia de la función de costo',\n",
    "    xaxis_title='Número de Iteraciones',\n",
    "    yaxis_title='Costo'\n",
    ")\n",
    "\n",
    "fig.show()\n"
   ]
  },
  {
   "cell_type": "markdown",
   "metadata": {},
   "source": [
    "Lo siguiente es un gráfico de la ROC (Característica de Operación del Receptor), que mide el modelo de regresión logística por cuán buena es la capacidad de discriminación entre las clases positiva y negativa (diabetes vs. no diabetes). El eje x representa la tasa de falsos positivos (FPR) y el eje y representa la tasa de verdaderos positivos (TPR). La línea azul ilustra cuánto cambia la TPR con la FPR, dado que el umbral del modelo también cambia. El mejor modelo posible estaría a lo largo del punto más alto en la esquina superior izquierda, donde la TPR es alta y la FPR es lo más baja posible. La línea roja que diagonalmente atraviesa el gráfico es un modelo que elige al azar, con un AUC (Área Bajo la Curva) de 0.5. Aquí la AUC es 0.84, lo cual es bueno, y el modelo tiene la capacidad de discriminar correctamente las clases la mayor parte del tiempo. Mientras más cerca esté la curva ROC de la esquina superior izquierda, mejor será el rendimiento del modelo en términos de sensibilidad y especificidad."
   ]
  },
  {
   "cell_type": "code",
   "execution_count": 10,
   "metadata": {},
   "outputs": [
    {
     "data": {
      "application/vnd.plotly.v1+json": {
       "config": {
        "plotlyServerURL": "https://plot.ly"
       },
       "data": [
        {
         "mode": "lines",
         "name": "Curva ROC (AUC = 0.84)",
         "type": "scatter",
         "x": [
          0,
          0,
          0.002,
          0.002,
          0.004,
          0.004,
          0.006,
          0.006,
          0.008,
          0.008,
          0.01,
          0.01,
          0.012,
          0.012,
          0.014,
          0.014,
          0.016,
          0.016,
          0.018,
          0.018,
          0.022,
          0.022,
          0.024,
          0.024,
          0.026,
          0.026,
          0.028,
          0.028,
          0.03,
          0.03,
          0.032,
          0.032,
          0.038,
          0.038,
          0.04,
          0.04,
          0.042,
          0.042,
          0.044,
          0.044,
          0.046,
          0.046,
          0.05,
          0.05,
          0.056,
          0.056,
          0.062,
          0.062,
          0.064,
          0.064,
          0.066,
          0.066,
          0.068,
          0.068,
          0.07,
          0.07,
          0.072,
          0.072,
          0.078,
          0.078,
          0.082,
          0.082,
          0.084,
          0.084,
          0.086,
          0.086,
          0.088,
          0.088,
          0.092,
          0.092,
          0.094,
          0.094,
          0.098,
          0.098,
          0.104,
          0.104,
          0.112,
          0.112,
          0.118,
          0.118,
          0.12,
          0.12,
          0.122,
          0.122,
          0.124,
          0.124,
          0.13,
          0.13,
          0.132,
          0.132,
          0.134,
          0.134,
          0.136,
          0.136,
          0.138,
          0.138,
          0.142,
          0.142,
          0.148,
          0.148,
          0.15,
          0.15,
          0.152,
          0.152,
          0.158,
          0.158,
          0.16,
          0.16,
          0.162,
          0.162,
          0.164,
          0.164,
          0.17,
          0.17,
          0.178,
          0.178,
          0.182,
          0.182,
          0.188,
          0.188,
          0.19,
          0.19,
          0.192,
          0.192,
          0.2,
          0.2,
          0.202,
          0.202,
          0.208,
          0.208,
          0.21,
          0.21,
          0.216,
          0.216,
          0.226,
          0.226,
          0.23,
          0.23,
          0.232,
          0.232,
          0.238,
          0.238,
          0.24,
          0.24,
          0.244,
          0.244,
          0.248,
          0.248,
          0.254,
          0.254,
          0.258,
          0.258,
          0.27,
          0.27,
          0.274,
          0.274,
          0.278,
          0.278,
          0.292,
          0.292,
          0.306,
          0.306,
          0.314,
          0.314,
          0.316,
          0.316,
          0.318,
          0.318,
          0.322,
          0.322,
          0.328,
          0.328,
          0.332,
          0.332,
          0.338,
          0.338,
          0.35,
          0.35,
          0.36,
          0.36,
          0.362,
          0.362,
          0.368,
          0.368,
          0.378,
          0.378,
          0.382,
          0.382,
          0.396,
          0.396,
          0.402,
          0.402,
          0.406,
          0.406,
          0.412,
          0.412,
          0.42,
          0.42,
          0.426,
          0.426,
          0.432,
          0.432,
          0.436,
          0.436,
          0.44,
          0.44,
          0.446,
          0.446,
          0.456,
          0.456,
          0.468,
          0.468,
          0.478,
          0.478,
          0.488,
          0.488,
          0.502,
          0.502,
          0.504,
          0.504,
          0.524,
          0.524,
          0.532,
          0.532,
          0.534,
          0.534,
          0.566,
          0.566,
          0.596,
          0.596,
          0.62,
          0.62,
          0.63,
          0.63,
          0.638,
          0.638,
          0.684,
          0.684,
          0.726,
          0.726,
          0.836,
          0.836,
          0.838,
          0.838,
          0.846,
          0.846,
          0.958,
          0.958,
          0.98,
          0.98,
          1
         ],
         "y": [
          0,
          0.0037313432835820895,
          0.0037313432835820895,
          0.014925373134328358,
          0.014925373134328358,
          0.026119402985074626,
          0.026119402985074626,
          0.033582089552238806,
          0.033582089552238806,
          0.0708955223880597,
          0.0708955223880597,
          0.15298507462686567,
          0.15298507462686567,
          0.16417910447761194,
          0.16417910447761194,
          0.17164179104477612,
          0.17164179104477612,
          0.1828358208955224,
          0.1828358208955224,
          0.20149253731343283,
          0.20149253731343283,
          0.22014925373134328,
          0.22014925373134328,
          0.2798507462686567,
          0.2798507462686567,
          0.30970149253731344,
          0.30970149253731344,
          0.3246268656716418,
          0.3246268656716418,
          0.332089552238806,
          0.332089552238806,
          0.3358208955223881,
          0.3358208955223881,
          0.34328358208955223,
          0.34328358208955223,
          0.34701492537313433,
          0.34701492537313433,
          0.35447761194029853,
          0.35447761194029853,
          0.3619402985074627,
          0.3619402985074627,
          0.3843283582089552,
          0.3843283582089552,
          0.39552238805970147,
          0.39552238805970147,
          0.40298507462686567,
          0.40298507462686567,
          0.4253731343283582,
          0.4253731343283582,
          0.44029850746268656,
          0.44029850746268656,
          0.44776119402985076,
          0.44776119402985076,
          0.4701492537313433,
          0.4701492537313433,
          0.48880597014925375,
          0.48880597014925375,
          0.4925373134328358,
          0.4925373134328358,
          0.503731343283582,
          0.503731343283582,
          0.5111940298507462,
          0.5111940298507462,
          0.5149253731343284,
          0.5149253731343284,
          0.5186567164179104,
          0.5186567164179104,
          0.5223880597014925,
          0.5223880597014925,
          0.5261194029850746,
          0.5261194029850746,
          0.5335820895522388,
          0.5335820895522388,
          0.5447761194029851,
          0.5447761194029851,
          0.5485074626865671,
          0.5485074626865671,
          0.5559701492537313,
          0.5559701492537313,
          0.5597014925373134,
          0.5597014925373134,
          0.5671641791044776,
          0.5671641791044776,
          0.5708955223880597,
          0.5708955223880597,
          0.5746268656716418,
          0.5746268656716418,
          0.5783582089552238,
          0.5783582089552238,
          0.5895522388059702,
          0.5895522388059702,
          0.5970149253731343,
          0.5970149253731343,
          0.6007462686567164,
          0.6007462686567164,
          0.6082089552238806,
          0.6082089552238806,
          0.6119402985074627,
          0.6119402985074627,
          0.6194029850746269,
          0.6194029850746269,
          0.6231343283582089,
          0.6231343283582089,
          0.6268656716417911,
          0.6268656716417911,
          0.6305970149253731,
          0.6305970149253731,
          0.6343283582089553,
          0.6343283582089553,
          0.6380597014925373,
          0.6380597014925373,
          0.6417910447761194,
          0.6417910447761194,
          0.6455223880597015,
          0.6455223880597015,
          0.6529850746268657,
          0.6529850746268657,
          0.6604477611940298,
          0.6604477611940298,
          0.664179104477612,
          0.664179104477612,
          0.6753731343283582,
          0.6753731343283582,
          0.6828358208955224,
          0.6828358208955224,
          0.6902985074626866,
          0.6902985074626866,
          0.7014925373134329,
          0.7014925373134329,
          0.7052238805970149,
          0.7052238805970149,
          0.7201492537313433,
          0.7201492537313433,
          0.7313432835820896,
          0.7313432835820896,
          0.7350746268656716,
          0.7350746268656716,
          0.7425373134328358,
          0.7425373134328358,
          0.75,
          0.75,
          0.753731343283582,
          0.753731343283582,
          0.7574626865671642,
          0.7574626865671642,
          0.7611940298507462,
          0.7611940298507462,
          0.7649253731343284,
          0.7649253731343284,
          0.7686567164179104,
          0.7686567164179104,
          0.7761194029850746,
          0.7761194029850746,
          0.7798507462686567,
          0.7798507462686567,
          0.7835820895522388,
          0.7835820895522388,
          0.7873134328358209,
          0.7873134328358209,
          0.7910447761194029,
          0.7910447761194029,
          0.7947761194029851,
          0.7947761194029851,
          0.8171641791044776,
          0.8171641791044776,
          0.8208955223880597,
          0.8208955223880597,
          0.8246268656716418,
          0.8246268656716418,
          0.8283582089552238,
          0.8283582089552238,
          0.832089552238806,
          0.832089552238806,
          0.835820895522388,
          0.835820895522388,
          0.8395522388059702,
          0.8395522388059702,
          0.8432835820895522,
          0.8432835820895522,
          0.8507462686567164,
          0.8507462686567164,
          0.8544776119402985,
          0.8544776119402985,
          0.8656716417910447,
          0.8656716417910447,
          0.8694029850746269,
          0.8694029850746269,
          0.8731343283582089,
          0.8731343283582089,
          0.8768656716417911,
          0.8768656716417911,
          0.8805970149253731,
          0.8805970149253731,
          0.8843283582089553,
          0.8843283582089553,
          0.8955223880597015,
          0.8955223880597015,
          0.8992537313432836,
          0.8992537313432836,
          0.9029850746268657,
          0.9029850746268657,
          0.9067164179104478,
          0.9067164179104478,
          0.9104477611940298,
          0.9104477611940298,
          0.914179104477612,
          0.914179104477612,
          0.9216417910447762,
          0.9216417910447762,
          0.9253731343283582,
          0.9253731343283582,
          0.9291044776119403,
          0.9291044776119403,
          0.9328358208955224,
          0.9328358208955224,
          0.9365671641791045,
          0.9365671641791045,
          0.9402985074626866,
          0.9402985074626866,
          0.9440298507462687,
          0.9440298507462687,
          0.9477611940298507,
          0.9477611940298507,
          0.9514925373134329,
          0.9514925373134329,
          0.9552238805970149,
          0.9552238805970149,
          0.9589552238805971,
          0.9589552238805971,
          0.9626865671641791,
          0.9626865671641791,
          0.9664179104477612,
          0.9664179104477612,
          0.9701492537313433,
          0.9701492537313433,
          0.9738805970149254,
          0.9738805970149254,
          0.9776119402985075,
          0.9776119402985075,
          0.9813432835820896,
          0.9813432835820896,
          0.9850746268656716,
          0.9850746268656716,
          0.9888059701492538,
          0.9888059701492538,
          0.9925373134328358,
          0.9925373134328358,
          0.996268656716418,
          0.996268656716418,
          1,
          1
         ]
        },
        {
         "line": {
          "color": "red",
          "dash": "dash"
         },
         "mode": "lines",
         "name": "Línea de referencia",
         "type": "scatter",
         "x": [
          0,
          1
         ],
         "y": [
          0,
          1
         ]
        }
       ],
       "layout": {
        "template": {
         "data": {
          "bar": [
           {
            "error_x": {
             "color": "#2a3f5f"
            },
            "error_y": {
             "color": "#2a3f5f"
            },
            "marker": {
             "line": {
              "color": "#E5ECF6",
              "width": 0.5
             },
             "pattern": {
              "fillmode": "overlay",
              "size": 10,
              "solidity": 0.2
             }
            },
            "type": "bar"
           }
          ],
          "barpolar": [
           {
            "marker": {
             "line": {
              "color": "#E5ECF6",
              "width": 0.5
             },
             "pattern": {
              "fillmode": "overlay",
              "size": 10,
              "solidity": 0.2
             }
            },
            "type": "barpolar"
           }
          ],
          "carpet": [
           {
            "aaxis": {
             "endlinecolor": "#2a3f5f",
             "gridcolor": "white",
             "linecolor": "white",
             "minorgridcolor": "white",
             "startlinecolor": "#2a3f5f"
            },
            "baxis": {
             "endlinecolor": "#2a3f5f",
             "gridcolor": "white",
             "linecolor": "white",
             "minorgridcolor": "white",
             "startlinecolor": "#2a3f5f"
            },
            "type": "carpet"
           }
          ],
          "choropleth": [
           {
            "colorbar": {
             "outlinewidth": 0,
             "ticks": ""
            },
            "type": "choropleth"
           }
          ],
          "contour": [
           {
            "colorbar": {
             "outlinewidth": 0,
             "ticks": ""
            },
            "colorscale": [
             [
              0,
              "#0d0887"
             ],
             [
              0.1111111111111111,
              "#46039f"
             ],
             [
              0.2222222222222222,
              "#7201a8"
             ],
             [
              0.3333333333333333,
              "#9c179e"
             ],
             [
              0.4444444444444444,
              "#bd3786"
             ],
             [
              0.5555555555555556,
              "#d8576b"
             ],
             [
              0.6666666666666666,
              "#ed7953"
             ],
             [
              0.7777777777777778,
              "#fb9f3a"
             ],
             [
              0.8888888888888888,
              "#fdca26"
             ],
             [
              1,
              "#f0f921"
             ]
            ],
            "type": "contour"
           }
          ],
          "contourcarpet": [
           {
            "colorbar": {
             "outlinewidth": 0,
             "ticks": ""
            },
            "type": "contourcarpet"
           }
          ],
          "heatmap": [
           {
            "colorbar": {
             "outlinewidth": 0,
             "ticks": ""
            },
            "colorscale": [
             [
              0,
              "#0d0887"
             ],
             [
              0.1111111111111111,
              "#46039f"
             ],
             [
              0.2222222222222222,
              "#7201a8"
             ],
             [
              0.3333333333333333,
              "#9c179e"
             ],
             [
              0.4444444444444444,
              "#bd3786"
             ],
             [
              0.5555555555555556,
              "#d8576b"
             ],
             [
              0.6666666666666666,
              "#ed7953"
             ],
             [
              0.7777777777777778,
              "#fb9f3a"
             ],
             [
              0.8888888888888888,
              "#fdca26"
             ],
             [
              1,
              "#f0f921"
             ]
            ],
            "type": "heatmap"
           }
          ],
          "heatmapgl": [
           {
            "colorbar": {
             "outlinewidth": 0,
             "ticks": ""
            },
            "colorscale": [
             [
              0,
              "#0d0887"
             ],
             [
              0.1111111111111111,
              "#46039f"
             ],
             [
              0.2222222222222222,
              "#7201a8"
             ],
             [
              0.3333333333333333,
              "#9c179e"
             ],
             [
              0.4444444444444444,
              "#bd3786"
             ],
             [
              0.5555555555555556,
              "#d8576b"
             ],
             [
              0.6666666666666666,
              "#ed7953"
             ],
             [
              0.7777777777777778,
              "#fb9f3a"
             ],
             [
              0.8888888888888888,
              "#fdca26"
             ],
             [
              1,
              "#f0f921"
             ]
            ],
            "type": "heatmapgl"
           }
          ],
          "histogram": [
           {
            "marker": {
             "pattern": {
              "fillmode": "overlay",
              "size": 10,
              "solidity": 0.2
             }
            },
            "type": "histogram"
           }
          ],
          "histogram2d": [
           {
            "colorbar": {
             "outlinewidth": 0,
             "ticks": ""
            },
            "colorscale": [
             [
              0,
              "#0d0887"
             ],
             [
              0.1111111111111111,
              "#46039f"
             ],
             [
              0.2222222222222222,
              "#7201a8"
             ],
             [
              0.3333333333333333,
              "#9c179e"
             ],
             [
              0.4444444444444444,
              "#bd3786"
             ],
             [
              0.5555555555555556,
              "#d8576b"
             ],
             [
              0.6666666666666666,
              "#ed7953"
             ],
             [
              0.7777777777777778,
              "#fb9f3a"
             ],
             [
              0.8888888888888888,
              "#fdca26"
             ],
             [
              1,
              "#f0f921"
             ]
            ],
            "type": "histogram2d"
           }
          ],
          "histogram2dcontour": [
           {
            "colorbar": {
             "outlinewidth": 0,
             "ticks": ""
            },
            "colorscale": [
             [
              0,
              "#0d0887"
             ],
             [
              0.1111111111111111,
              "#46039f"
             ],
             [
              0.2222222222222222,
              "#7201a8"
             ],
             [
              0.3333333333333333,
              "#9c179e"
             ],
             [
              0.4444444444444444,
              "#bd3786"
             ],
             [
              0.5555555555555556,
              "#d8576b"
             ],
             [
              0.6666666666666666,
              "#ed7953"
             ],
             [
              0.7777777777777778,
              "#fb9f3a"
             ],
             [
              0.8888888888888888,
              "#fdca26"
             ],
             [
              1,
              "#f0f921"
             ]
            ],
            "type": "histogram2dcontour"
           }
          ],
          "mesh3d": [
           {
            "colorbar": {
             "outlinewidth": 0,
             "ticks": ""
            },
            "type": "mesh3d"
           }
          ],
          "parcoords": [
           {
            "line": {
             "colorbar": {
              "outlinewidth": 0,
              "ticks": ""
             }
            },
            "type": "parcoords"
           }
          ],
          "pie": [
           {
            "automargin": true,
            "type": "pie"
           }
          ],
          "scatter": [
           {
            "fillpattern": {
             "fillmode": "overlay",
             "size": 10,
             "solidity": 0.2
            },
            "type": "scatter"
           }
          ],
          "scatter3d": [
           {
            "line": {
             "colorbar": {
              "outlinewidth": 0,
              "ticks": ""
             }
            },
            "marker": {
             "colorbar": {
              "outlinewidth": 0,
              "ticks": ""
             }
            },
            "type": "scatter3d"
           }
          ],
          "scattercarpet": [
           {
            "marker": {
             "colorbar": {
              "outlinewidth": 0,
              "ticks": ""
             }
            },
            "type": "scattercarpet"
           }
          ],
          "scattergeo": [
           {
            "marker": {
             "colorbar": {
              "outlinewidth": 0,
              "ticks": ""
             }
            },
            "type": "scattergeo"
           }
          ],
          "scattergl": [
           {
            "marker": {
             "colorbar": {
              "outlinewidth": 0,
              "ticks": ""
             }
            },
            "type": "scattergl"
           }
          ],
          "scattermapbox": [
           {
            "marker": {
             "colorbar": {
              "outlinewidth": 0,
              "ticks": ""
             }
            },
            "type": "scattermapbox"
           }
          ],
          "scatterpolar": [
           {
            "marker": {
             "colorbar": {
              "outlinewidth": 0,
              "ticks": ""
             }
            },
            "type": "scatterpolar"
           }
          ],
          "scatterpolargl": [
           {
            "marker": {
             "colorbar": {
              "outlinewidth": 0,
              "ticks": ""
             }
            },
            "type": "scatterpolargl"
           }
          ],
          "scatterternary": [
           {
            "marker": {
             "colorbar": {
              "outlinewidth": 0,
              "ticks": ""
             }
            },
            "type": "scatterternary"
           }
          ],
          "surface": [
           {
            "colorbar": {
             "outlinewidth": 0,
             "ticks": ""
            },
            "colorscale": [
             [
              0,
              "#0d0887"
             ],
             [
              0.1111111111111111,
              "#46039f"
             ],
             [
              0.2222222222222222,
              "#7201a8"
             ],
             [
              0.3333333333333333,
              "#9c179e"
             ],
             [
              0.4444444444444444,
              "#bd3786"
             ],
             [
              0.5555555555555556,
              "#d8576b"
             ],
             [
              0.6666666666666666,
              "#ed7953"
             ],
             [
              0.7777777777777778,
              "#fb9f3a"
             ],
             [
              0.8888888888888888,
              "#fdca26"
             ],
             [
              1,
              "#f0f921"
             ]
            ],
            "type": "surface"
           }
          ],
          "table": [
           {
            "cells": {
             "fill": {
              "color": "#EBF0F8"
             },
             "line": {
              "color": "white"
             }
            },
            "header": {
             "fill": {
              "color": "#C8D4E3"
             },
             "line": {
              "color": "white"
             }
            },
            "type": "table"
           }
          ]
         },
         "layout": {
          "annotationdefaults": {
           "arrowcolor": "#2a3f5f",
           "arrowhead": 0,
           "arrowwidth": 1
          },
          "autotypenumbers": "strict",
          "coloraxis": {
           "colorbar": {
            "outlinewidth": 0,
            "ticks": ""
           }
          },
          "colorscale": {
           "diverging": [
            [
             0,
             "#8e0152"
            ],
            [
             0.1,
             "#c51b7d"
            ],
            [
             0.2,
             "#de77ae"
            ],
            [
             0.3,
             "#f1b6da"
            ],
            [
             0.4,
             "#fde0ef"
            ],
            [
             0.5,
             "#f7f7f7"
            ],
            [
             0.6,
             "#e6f5d0"
            ],
            [
             0.7,
             "#b8e186"
            ],
            [
             0.8,
             "#7fbc41"
            ],
            [
             0.9,
             "#4d9221"
            ],
            [
             1,
             "#276419"
            ]
           ],
           "sequential": [
            [
             0,
             "#0d0887"
            ],
            [
             0.1111111111111111,
             "#46039f"
            ],
            [
             0.2222222222222222,
             "#7201a8"
            ],
            [
             0.3333333333333333,
             "#9c179e"
            ],
            [
             0.4444444444444444,
             "#bd3786"
            ],
            [
             0.5555555555555556,
             "#d8576b"
            ],
            [
             0.6666666666666666,
             "#ed7953"
            ],
            [
             0.7777777777777778,
             "#fb9f3a"
            ],
            [
             0.8888888888888888,
             "#fdca26"
            ],
            [
             1,
             "#f0f921"
            ]
           ],
           "sequentialminus": [
            [
             0,
             "#0d0887"
            ],
            [
             0.1111111111111111,
             "#46039f"
            ],
            [
             0.2222222222222222,
             "#7201a8"
            ],
            [
             0.3333333333333333,
             "#9c179e"
            ],
            [
             0.4444444444444444,
             "#bd3786"
            ],
            [
             0.5555555555555556,
             "#d8576b"
            ],
            [
             0.6666666666666666,
             "#ed7953"
            ],
            [
             0.7777777777777778,
             "#fb9f3a"
            ],
            [
             0.8888888888888888,
             "#fdca26"
            ],
            [
             1,
             "#f0f921"
            ]
           ]
          },
          "colorway": [
           "#636efa",
           "#EF553B",
           "#00cc96",
           "#ab63fa",
           "#FFA15A",
           "#19d3f3",
           "#FF6692",
           "#B6E880",
           "#FF97FF",
           "#FECB52"
          ],
          "font": {
           "color": "#2a3f5f"
          },
          "geo": {
           "bgcolor": "white",
           "lakecolor": "white",
           "landcolor": "#E5ECF6",
           "showlakes": true,
           "showland": true,
           "subunitcolor": "white"
          },
          "hoverlabel": {
           "align": "left"
          },
          "hovermode": "closest",
          "mapbox": {
           "style": "light"
          },
          "paper_bgcolor": "white",
          "plot_bgcolor": "#E5ECF6",
          "polar": {
           "angularaxis": {
            "gridcolor": "white",
            "linecolor": "white",
            "ticks": ""
           },
           "bgcolor": "#E5ECF6",
           "radialaxis": {
            "gridcolor": "white",
            "linecolor": "white",
            "ticks": ""
           }
          },
          "scene": {
           "xaxis": {
            "backgroundcolor": "#E5ECF6",
            "gridcolor": "white",
            "gridwidth": 2,
            "linecolor": "white",
            "showbackground": true,
            "ticks": "",
            "zerolinecolor": "white"
           },
           "yaxis": {
            "backgroundcolor": "#E5ECF6",
            "gridcolor": "white",
            "gridwidth": 2,
            "linecolor": "white",
            "showbackground": true,
            "ticks": "",
            "zerolinecolor": "white"
           },
           "zaxis": {
            "backgroundcolor": "#E5ECF6",
            "gridcolor": "white",
            "gridwidth": 2,
            "linecolor": "white",
            "showbackground": true,
            "ticks": "",
            "zerolinecolor": "white"
           }
          },
          "shapedefaults": {
           "line": {
            "color": "#2a3f5f"
           }
          },
          "ternary": {
           "aaxis": {
            "gridcolor": "white",
            "linecolor": "white",
            "ticks": ""
           },
           "baxis": {
            "gridcolor": "white",
            "linecolor": "white",
            "ticks": ""
           },
           "bgcolor": "#E5ECF6",
           "caxis": {
            "gridcolor": "white",
            "linecolor": "white",
            "ticks": ""
           }
          },
          "title": {
           "x": 0.05
          },
          "xaxis": {
           "automargin": true,
           "gridcolor": "white",
           "linecolor": "white",
           "ticks": "",
           "title": {
            "standoff": 15
           },
           "zerolinecolor": "white",
           "zerolinewidth": 2
          },
          "yaxis": {
           "automargin": true,
           "gridcolor": "white",
           "linecolor": "white",
           "ticks": "",
           "title": {
            "standoff": 15
           },
           "zerolinecolor": "white",
           "zerolinewidth": 2
          }
         }
        },
        "title": {
         "text": "Curva ROC"
        },
        "xaxis": {
         "title": {
          "text": "Tasa de Falsos Positivos"
         }
        },
        "yaxis": {
         "title": {
          "text": "Tasa de Verdaderos Positivos"
         }
        }
       }
      }
     },
     "metadata": {},
     "output_type": "display_data"
    }
   ],
   "source": [
    "\n",
    "# Calcular las probabilidades de predicción\n",
    "y_prob = sigmoid(np.dot(X_bias, theta))\n",
    "\n",
    "# Calcular los valores de la curva ROC\n",
    "fpr, tpr, thresholds = roc_curve(y, y_prob)\n",
    "roc_auc = auc(fpr, tpr)\n",
    "\n",
    "# Gráfico de la curva ROC\n",
    "fig = go.Figure()\n",
    "\n",
    "fig.add_trace(go.Scatter(\n",
    "    x=fpr,\n",
    "    y=tpr,\n",
    "    mode='lines',\n",
    "    name=f'Curva ROC (AUC = {roc_auc:.2f})'\n",
    "))\n",
    "\n",
    "fig.add_trace(go.Scatter(\n",
    "    x=[0, 1],\n",
    "    y=[0, 1],\n",
    "    mode='lines',\n",
    "    line=dict(dash='dash', color='red'),\n",
    "    name='Línea de referencia'\n",
    "))\n",
    "\n",
    "fig.update_layout(\n",
    "    title='Curva ROC',\n",
    "    xaxis_title='Tasa de Falsos Positivos',\n",
    "    yaxis_title='Tasa de Verdaderos Positivos'\n",
    ")\n",
    "\n",
    "fig.show()\n"
   ]
  },
  {
   "cell_type": "markdown",
   "metadata": {},
   "source": [
    "La siguiente matriz de confusión muestra un análisis más detallado del rendimiento del modelo de regresión logística al clasificar la información en dos categorías discretas: \"diabetes\" (1) y \"no diabetes\" (0). Cada uno de los valores en la matriz es el recuento de ejemplos clasificados por el modelo en dicha clase o combinación de clases:\n",
    "\n",
    "- 115 ejemplos fueron clasificados correctamente como \"diabetes\" (Verdaderos Positivos).\n",
    "- 62 ejemplos fueron clasificados correctamente como \"no diabetes\" (Verdaderos Negativos).\n",
    "- 153 ejemplos que se clasificaron incorrectamente como \"no diabetes\" cuando tenían diabetes (Falsos Negativos).\n",
    "- 438 ejemplos que se clasificaron incorrectamente como \"diabetes\" cuando no tenían diabetes (Falsos Positivos).\n",
    "\n",
    "La matriz establece que el modelo tiende a arrojar muchos falsos positivos, especialmente sobre los ejemplos que no tienen diabetes (muchos falsos positivos). Esto muestra que el modelo es un poco sesgado hacia la predicción de la clase positiva y el sesgo debe ser corregido de alguna manera mediante la corrección del umbral o algún otro ajuste para obtener una mejor precisión y equilibrio entre las clases. La matriz de confusión es una excelente manera de entender la debilidad y la fortaleza de un modelo en las predicciones."
   ]
  },
  {
   "cell_type": "code",
   "execution_count": 11,
   "metadata": {},
   "outputs": [
    {
     "data": {
      "application/vnd.plotly.v1+json": {
       "config": {
        "plotlyServerURL": "https://plot.ly"
       },
       "data": [
        {
         "colorscale": [
          [
           0,
           "rgb(247,251,255)"
          ],
          [
           0.125,
           "rgb(222,235,247)"
          ],
          [
           0.25,
           "rgb(198,219,239)"
          ],
          [
           0.375,
           "rgb(158,202,225)"
          ],
          [
           0.5,
           "rgb(107,174,214)"
          ],
          [
           0.625,
           "rgb(66,146,198)"
          ],
          [
           0.75,
           "rgb(33,113,181)"
          ],
          [
           0.875,
           "rgb(8,81,156)"
          ],
          [
           1,
           "rgb(8,48,107)"
          ]
         ],
         "reversescale": false,
         "showscale": true,
         "type": "heatmap",
         "x": [
          "Predicho: 0",
          "Predicho: 1"
         ],
         "y": [
          "Real: 0",
          "Real: 1"
         ],
         "z": [
          [
           438,
           62
          ],
          [
           115,
           153
          ]
         ]
        }
       ],
       "layout": {
        "annotations": [
         {
          "font": {
           "color": "#FFFFFF"
          },
          "showarrow": false,
          "text": "438",
          "x": "Predicho: 0",
          "xref": "x",
          "y": "Real: 0",
          "yref": "y"
         },
         {
          "font": {
           "color": "#000000"
          },
          "showarrow": false,
          "text": "62",
          "x": "Predicho: 1",
          "xref": "x",
          "y": "Real: 0",
          "yref": "y"
         },
         {
          "font": {
           "color": "#000000"
          },
          "showarrow": false,
          "text": "115",
          "x": "Predicho: 0",
          "xref": "x",
          "y": "Real: 1",
          "yref": "y"
         },
         {
          "font": {
           "color": "#000000"
          },
          "showarrow": false,
          "text": "153",
          "x": "Predicho: 1",
          "xref": "x",
          "y": "Real: 1",
          "yref": "y"
         }
        ],
        "template": {
         "data": {
          "bar": [
           {
            "error_x": {
             "color": "#2a3f5f"
            },
            "error_y": {
             "color": "#2a3f5f"
            },
            "marker": {
             "line": {
              "color": "#E5ECF6",
              "width": 0.5
             },
             "pattern": {
              "fillmode": "overlay",
              "size": 10,
              "solidity": 0.2
             }
            },
            "type": "bar"
           }
          ],
          "barpolar": [
           {
            "marker": {
             "line": {
              "color": "#E5ECF6",
              "width": 0.5
             },
             "pattern": {
              "fillmode": "overlay",
              "size": 10,
              "solidity": 0.2
             }
            },
            "type": "barpolar"
           }
          ],
          "carpet": [
           {
            "aaxis": {
             "endlinecolor": "#2a3f5f",
             "gridcolor": "white",
             "linecolor": "white",
             "minorgridcolor": "white",
             "startlinecolor": "#2a3f5f"
            },
            "baxis": {
             "endlinecolor": "#2a3f5f",
             "gridcolor": "white",
             "linecolor": "white",
             "minorgridcolor": "white",
             "startlinecolor": "#2a3f5f"
            },
            "type": "carpet"
           }
          ],
          "choropleth": [
           {
            "colorbar": {
             "outlinewidth": 0,
             "ticks": ""
            },
            "type": "choropleth"
           }
          ],
          "contour": [
           {
            "colorbar": {
             "outlinewidth": 0,
             "ticks": ""
            },
            "colorscale": [
             [
              0,
              "#0d0887"
             ],
             [
              0.1111111111111111,
              "#46039f"
             ],
             [
              0.2222222222222222,
              "#7201a8"
             ],
             [
              0.3333333333333333,
              "#9c179e"
             ],
             [
              0.4444444444444444,
              "#bd3786"
             ],
             [
              0.5555555555555556,
              "#d8576b"
             ],
             [
              0.6666666666666666,
              "#ed7953"
             ],
             [
              0.7777777777777778,
              "#fb9f3a"
             ],
             [
              0.8888888888888888,
              "#fdca26"
             ],
             [
              1,
              "#f0f921"
             ]
            ],
            "type": "contour"
           }
          ],
          "contourcarpet": [
           {
            "colorbar": {
             "outlinewidth": 0,
             "ticks": ""
            },
            "type": "contourcarpet"
           }
          ],
          "heatmap": [
           {
            "colorbar": {
             "outlinewidth": 0,
             "ticks": ""
            },
            "colorscale": [
             [
              0,
              "#0d0887"
             ],
             [
              0.1111111111111111,
              "#46039f"
             ],
             [
              0.2222222222222222,
              "#7201a8"
             ],
             [
              0.3333333333333333,
              "#9c179e"
             ],
             [
              0.4444444444444444,
              "#bd3786"
             ],
             [
              0.5555555555555556,
              "#d8576b"
             ],
             [
              0.6666666666666666,
              "#ed7953"
             ],
             [
              0.7777777777777778,
              "#fb9f3a"
             ],
             [
              0.8888888888888888,
              "#fdca26"
             ],
             [
              1,
              "#f0f921"
             ]
            ],
            "type": "heatmap"
           }
          ],
          "heatmapgl": [
           {
            "colorbar": {
             "outlinewidth": 0,
             "ticks": ""
            },
            "colorscale": [
             [
              0,
              "#0d0887"
             ],
             [
              0.1111111111111111,
              "#46039f"
             ],
             [
              0.2222222222222222,
              "#7201a8"
             ],
             [
              0.3333333333333333,
              "#9c179e"
             ],
             [
              0.4444444444444444,
              "#bd3786"
             ],
             [
              0.5555555555555556,
              "#d8576b"
             ],
             [
              0.6666666666666666,
              "#ed7953"
             ],
             [
              0.7777777777777778,
              "#fb9f3a"
             ],
             [
              0.8888888888888888,
              "#fdca26"
             ],
             [
              1,
              "#f0f921"
             ]
            ],
            "type": "heatmapgl"
           }
          ],
          "histogram": [
           {
            "marker": {
             "pattern": {
              "fillmode": "overlay",
              "size": 10,
              "solidity": 0.2
             }
            },
            "type": "histogram"
           }
          ],
          "histogram2d": [
           {
            "colorbar": {
             "outlinewidth": 0,
             "ticks": ""
            },
            "colorscale": [
             [
              0,
              "#0d0887"
             ],
             [
              0.1111111111111111,
              "#46039f"
             ],
             [
              0.2222222222222222,
              "#7201a8"
             ],
             [
              0.3333333333333333,
              "#9c179e"
             ],
             [
              0.4444444444444444,
              "#bd3786"
             ],
             [
              0.5555555555555556,
              "#d8576b"
             ],
             [
              0.6666666666666666,
              "#ed7953"
             ],
             [
              0.7777777777777778,
              "#fb9f3a"
             ],
             [
              0.8888888888888888,
              "#fdca26"
             ],
             [
              1,
              "#f0f921"
             ]
            ],
            "type": "histogram2d"
           }
          ],
          "histogram2dcontour": [
           {
            "colorbar": {
             "outlinewidth": 0,
             "ticks": ""
            },
            "colorscale": [
             [
              0,
              "#0d0887"
             ],
             [
              0.1111111111111111,
              "#46039f"
             ],
             [
              0.2222222222222222,
              "#7201a8"
             ],
             [
              0.3333333333333333,
              "#9c179e"
             ],
             [
              0.4444444444444444,
              "#bd3786"
             ],
             [
              0.5555555555555556,
              "#d8576b"
             ],
             [
              0.6666666666666666,
              "#ed7953"
             ],
             [
              0.7777777777777778,
              "#fb9f3a"
             ],
             [
              0.8888888888888888,
              "#fdca26"
             ],
             [
              1,
              "#f0f921"
             ]
            ],
            "type": "histogram2dcontour"
           }
          ],
          "mesh3d": [
           {
            "colorbar": {
             "outlinewidth": 0,
             "ticks": ""
            },
            "type": "mesh3d"
           }
          ],
          "parcoords": [
           {
            "line": {
             "colorbar": {
              "outlinewidth": 0,
              "ticks": ""
             }
            },
            "type": "parcoords"
           }
          ],
          "pie": [
           {
            "automargin": true,
            "type": "pie"
           }
          ],
          "scatter": [
           {
            "fillpattern": {
             "fillmode": "overlay",
             "size": 10,
             "solidity": 0.2
            },
            "type": "scatter"
           }
          ],
          "scatter3d": [
           {
            "line": {
             "colorbar": {
              "outlinewidth": 0,
              "ticks": ""
             }
            },
            "marker": {
             "colorbar": {
              "outlinewidth": 0,
              "ticks": ""
             }
            },
            "type": "scatter3d"
           }
          ],
          "scattercarpet": [
           {
            "marker": {
             "colorbar": {
              "outlinewidth": 0,
              "ticks": ""
             }
            },
            "type": "scattercarpet"
           }
          ],
          "scattergeo": [
           {
            "marker": {
             "colorbar": {
              "outlinewidth": 0,
              "ticks": ""
             }
            },
            "type": "scattergeo"
           }
          ],
          "scattergl": [
           {
            "marker": {
             "colorbar": {
              "outlinewidth": 0,
              "ticks": ""
             }
            },
            "type": "scattergl"
           }
          ],
          "scattermapbox": [
           {
            "marker": {
             "colorbar": {
              "outlinewidth": 0,
              "ticks": ""
             }
            },
            "type": "scattermapbox"
           }
          ],
          "scatterpolar": [
           {
            "marker": {
             "colorbar": {
              "outlinewidth": 0,
              "ticks": ""
             }
            },
            "type": "scatterpolar"
           }
          ],
          "scatterpolargl": [
           {
            "marker": {
             "colorbar": {
              "outlinewidth": 0,
              "ticks": ""
             }
            },
            "type": "scatterpolargl"
           }
          ],
          "scatterternary": [
           {
            "marker": {
             "colorbar": {
              "outlinewidth": 0,
              "ticks": ""
             }
            },
            "type": "scatterternary"
           }
          ],
          "surface": [
           {
            "colorbar": {
             "outlinewidth": 0,
             "ticks": ""
            },
            "colorscale": [
             [
              0,
              "#0d0887"
             ],
             [
              0.1111111111111111,
              "#46039f"
             ],
             [
              0.2222222222222222,
              "#7201a8"
             ],
             [
              0.3333333333333333,
              "#9c179e"
             ],
             [
              0.4444444444444444,
              "#bd3786"
             ],
             [
              0.5555555555555556,
              "#d8576b"
             ],
             [
              0.6666666666666666,
              "#ed7953"
             ],
             [
              0.7777777777777778,
              "#fb9f3a"
             ],
             [
              0.8888888888888888,
              "#fdca26"
             ],
             [
              1,
              "#f0f921"
             ]
            ],
            "type": "surface"
           }
          ],
          "table": [
           {
            "cells": {
             "fill": {
              "color": "#EBF0F8"
             },
             "line": {
              "color": "white"
             }
            },
            "header": {
             "fill": {
              "color": "#C8D4E3"
             },
             "line": {
              "color": "white"
             }
            },
            "type": "table"
           }
          ]
         },
         "layout": {
          "annotationdefaults": {
           "arrowcolor": "#2a3f5f",
           "arrowhead": 0,
           "arrowwidth": 1
          },
          "autotypenumbers": "strict",
          "coloraxis": {
           "colorbar": {
            "outlinewidth": 0,
            "ticks": ""
           }
          },
          "colorscale": {
           "diverging": [
            [
             0,
             "#8e0152"
            ],
            [
             0.1,
             "#c51b7d"
            ],
            [
             0.2,
             "#de77ae"
            ],
            [
             0.3,
             "#f1b6da"
            ],
            [
             0.4,
             "#fde0ef"
            ],
            [
             0.5,
             "#f7f7f7"
            ],
            [
             0.6,
             "#e6f5d0"
            ],
            [
             0.7,
             "#b8e186"
            ],
            [
             0.8,
             "#7fbc41"
            ],
            [
             0.9,
             "#4d9221"
            ],
            [
             1,
             "#276419"
            ]
           ],
           "sequential": [
            [
             0,
             "#0d0887"
            ],
            [
             0.1111111111111111,
             "#46039f"
            ],
            [
             0.2222222222222222,
             "#7201a8"
            ],
            [
             0.3333333333333333,
             "#9c179e"
            ],
            [
             0.4444444444444444,
             "#bd3786"
            ],
            [
             0.5555555555555556,
             "#d8576b"
            ],
            [
             0.6666666666666666,
             "#ed7953"
            ],
            [
             0.7777777777777778,
             "#fb9f3a"
            ],
            [
             0.8888888888888888,
             "#fdca26"
            ],
            [
             1,
             "#f0f921"
            ]
           ],
           "sequentialminus": [
            [
             0,
             "#0d0887"
            ],
            [
             0.1111111111111111,
             "#46039f"
            ],
            [
             0.2222222222222222,
             "#7201a8"
            ],
            [
             0.3333333333333333,
             "#9c179e"
            ],
            [
             0.4444444444444444,
             "#bd3786"
            ],
            [
             0.5555555555555556,
             "#d8576b"
            ],
            [
             0.6666666666666666,
             "#ed7953"
            ],
            [
             0.7777777777777778,
             "#fb9f3a"
            ],
            [
             0.8888888888888888,
             "#fdca26"
            ],
            [
             1,
             "#f0f921"
            ]
           ]
          },
          "colorway": [
           "#636efa",
           "#EF553B",
           "#00cc96",
           "#ab63fa",
           "#FFA15A",
           "#19d3f3",
           "#FF6692",
           "#B6E880",
           "#FF97FF",
           "#FECB52"
          ],
          "font": {
           "color": "#2a3f5f"
          },
          "geo": {
           "bgcolor": "white",
           "lakecolor": "white",
           "landcolor": "#E5ECF6",
           "showlakes": true,
           "showland": true,
           "subunitcolor": "white"
          },
          "hoverlabel": {
           "align": "left"
          },
          "hovermode": "closest",
          "mapbox": {
           "style": "light"
          },
          "paper_bgcolor": "white",
          "plot_bgcolor": "#E5ECF6",
          "polar": {
           "angularaxis": {
            "gridcolor": "white",
            "linecolor": "white",
            "ticks": ""
           },
           "bgcolor": "#E5ECF6",
           "radialaxis": {
            "gridcolor": "white",
            "linecolor": "white",
            "ticks": ""
           }
          },
          "scene": {
           "xaxis": {
            "backgroundcolor": "#E5ECF6",
            "gridcolor": "white",
            "gridwidth": 2,
            "linecolor": "white",
            "showbackground": true,
            "ticks": "",
            "zerolinecolor": "white"
           },
           "yaxis": {
            "backgroundcolor": "#E5ECF6",
            "gridcolor": "white",
            "gridwidth": 2,
            "linecolor": "white",
            "showbackground": true,
            "ticks": "",
            "zerolinecolor": "white"
           },
           "zaxis": {
            "backgroundcolor": "#E5ECF6",
            "gridcolor": "white",
            "gridwidth": 2,
            "linecolor": "white",
            "showbackground": true,
            "ticks": "",
            "zerolinecolor": "white"
           }
          },
          "shapedefaults": {
           "line": {
            "color": "#2a3f5f"
           }
          },
          "ternary": {
           "aaxis": {
            "gridcolor": "white",
            "linecolor": "white",
            "ticks": ""
           },
           "baxis": {
            "gridcolor": "white",
            "linecolor": "white",
            "ticks": ""
           },
           "bgcolor": "#E5ECF6",
           "caxis": {
            "gridcolor": "white",
            "linecolor": "white",
            "ticks": ""
           }
          },
          "title": {
           "x": 0.05
          },
          "xaxis": {
           "automargin": true,
           "gridcolor": "white",
           "linecolor": "white",
           "ticks": "",
           "title": {
            "standoff": 15
           },
           "zerolinecolor": "white",
           "zerolinewidth": 2
          },
          "yaxis": {
           "automargin": true,
           "gridcolor": "white",
           "linecolor": "white",
           "ticks": "",
           "title": {
            "standoff": 15
           },
           "zerolinecolor": "white",
           "zerolinewidth": 2
          }
         }
        },
        "title": {
         "text": "Matriz de Confusión"
        },
        "xaxis": {
         "dtick": 1,
         "gridcolor": "rgb(0, 0, 0)",
         "side": "top",
         "ticks": "",
         "title": {
          "text": "Predicción"
         }
        },
        "yaxis": {
         "dtick": 1,
         "ticks": "",
         "ticksuffix": "  ",
         "title": {
          "text": "Real"
         }
        }
       }
      }
     },
     "metadata": {},
     "output_type": "display_data"
    }
   ],
   "source": [
    "\n",
    "# Calcular la matriz de confusión\n",
    "cm = confusion_matrix(y, y_pred)\n",
    "\n",
    "# Crear una matriz de confusión con plotly\n",
    "z = cm.tolist()\n",
    "x = ['Predicho: 0', 'Predicho: 1']\n",
    "y = ['Real: 0', 'Real: 1']\n",
    "\n",
    "fig = ff.create_annotated_heatmap(\n",
    "    z,\n",
    "    x=x,\n",
    "    y=y,\n",
    "    colorscale='Blues',\n",
    "    showscale=True\n",
    ")\n",
    "\n",
    "fig.update_layout(\n",
    "    title='Matriz de Confusión',\n",
    "    xaxis_title='Predicción',\n",
    "    yaxis_title='Real'\n",
    ")\n",
    "\n",
    "fig.show()\n"
   ]
  },
  {
   "cell_type": "markdown",
   "metadata": {},
   "source": [
    "En este documento se ha implementado un análisis detallado de un modelo de regresión logística aplicado al conjunto de datos de diabetes de los Pima Indianos. Implementado y evaluado el modelo mediante técnicas clave como la normalización de los datos, el descenso de gradiente, y el cálculo de métricas de rendimiento como la precisión, la curva ROC, y la matriz de confusión.\n",
    "\n",
    "El modelo ha mostrado una precisión del 76.95%, con una curva ROC que indica un buen rendimiento general (AUC = 0.84). Sin embargo, la matriz de confusión revela ciertos desafíos en la clasificación, particularmente con un alto número de falsos positivos, lo que sugiere que el modelo podría beneficiarse de ajustes adicionales para mejorar su balance y exactitud.\n"
   ]
  }
 ],
 "metadata": {
  "kernelspec": {
   "display_name": "Python 3",
   "language": "python",
   "name": "python3"
  },
  "language_info": {
   "codemirror_mode": {
    "name": "ipython",
    "version": 3
   },
   "file_extension": ".py",
   "mimetype": "text/x-python",
   "name": "python",
   "nbconvert_exporter": "python",
   "pygments_lexer": "ipython3",
   "version": "3.10.5"
  }
 },
 "nbformat": 4,
 "nbformat_minor": 2
}
